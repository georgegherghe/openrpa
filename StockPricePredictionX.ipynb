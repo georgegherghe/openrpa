{
  "nbformat": 4,
  "nbformat_minor": 0,
  "metadata": {
    "colab": {
      "name": "StockPricePrediction.ipynb",
      "provenance": [],
      "collapsed_sections": [],
      "authorship_tag": "ABX9TyP0uqv2B/nakht9cxzIQYR8",
      "include_colab_link": true
    },
    "kernelspec": {
      "name": "python3",
      "display_name": "Python 3"
    }
  },
  "cells": [
    {
      "cell_type": "markdown",
      "metadata": {
        "id": "view-in-github",
        "colab_type": "text"
      },
      "source": [
        "<a href=\"https://colab.research.google.com/github/georgegherghe/openrpa/blob/master/StockPricePredictionX.ipynb\" target=\"_parent\"><img src=\"https://colab.research.google.com/assets/colab-badge.svg\" alt=\"Open In Colab\"/></a>"
      ]
    },
    {
      "cell_type": "code",
      "metadata": {
        "id": "zq36ZYwDb0Zg"
      },
      "source": [
        "#Import the lib\r\n",
        "import math\r\n",
        "import pandas_datareader as web\r\n",
        "import numpy as np\r\n",
        "import pandas as pd\r\n",
        "from sklearn.preprocessing import MinMaxScaler\r\n",
        "from keras.models import Sequential\r\n",
        "from keras.layers import Dense, LSTM\r\n",
        "import matplotlib.pyplot as plt\r\n",
        "plt.style.use('fivethirtyeight')"
      ],
      "execution_count": 396,
      "outputs": []
    },
    {
      "cell_type": "code",
      "metadata": {
        "colab": {
          "base_uri": "https://localhost:8080/",
          "height": 431
        },
        "id": "uyufvj3KdHL2",
        "outputId": "279d2e12-f878-4790-be5a-50d2b7cb8843"
      },
      "source": [
        "#Get the stock quote\r\n",
        "st = 'CEQP'\r\n",
        "last_day = '2021-02-21'\r\n",
        "df = web.DataReader(st, data_source='yahoo', start='2012-01-01', end=last_day)\r\n",
        "df"
      ],
      "execution_count": 397,
      "outputs": [
        {
          "output_type": "execute_result",
          "data": {
            "text/html": [
              "<div>\n",
              "<style scoped>\n",
              "    .dataframe tbody tr th:only-of-type {\n",
              "        vertical-align: middle;\n",
              "    }\n",
              "\n",
              "    .dataframe tbody tr th {\n",
              "        vertical-align: top;\n",
              "    }\n",
              "\n",
              "    .dataframe thead th {\n",
              "        text-align: right;\n",
              "    }\n",
              "</style>\n",
              "<table border=\"1\" class=\"dataframe\">\n",
              "  <thead>\n",
              "    <tr style=\"text-align: right;\">\n",
              "      <th></th>\n",
              "      <th>High</th>\n",
              "      <th>Low</th>\n",
              "      <th>Open</th>\n",
              "      <th>Close</th>\n",
              "      <th>Volume</th>\n",
              "      <th>Adj Close</th>\n",
              "    </tr>\n",
              "    <tr>\n",
              "      <th>Date</th>\n",
              "      <th></th>\n",
              "      <th></th>\n",
              "      <th></th>\n",
              "      <th></th>\n",
              "      <th></th>\n",
              "      <th></th>\n",
              "    </tr>\n",
              "  </thead>\n",
              "  <tbody>\n",
              "    <tr>\n",
              "      <th>2012-01-03</th>\n",
              "      <td>147.173141</td>\n",
              "      <td>143.404007</td>\n",
              "      <td>144.876328</td>\n",
              "      <td>143.816254</td>\n",
              "      <td>106431.0</td>\n",
              "      <td>55.628059</td>\n",
              "    </tr>\n",
              "    <tr>\n",
              "      <th>2012-01-04</th>\n",
              "      <td>144.876328</td>\n",
              "      <td>143.109543</td>\n",
              "      <td>143.698471</td>\n",
              "      <td>143.698471</td>\n",
              "      <td>117247.0</td>\n",
              "      <td>55.582478</td>\n",
              "    </tr>\n",
              "    <tr>\n",
              "      <th>2012-01-05</th>\n",
              "      <td>144.817429</td>\n",
              "      <td>143.168427</td>\n",
              "      <td>143.698471</td>\n",
              "      <td>143.639572</td>\n",
              "      <td>89400.0</td>\n",
              "      <td>55.559715</td>\n",
              "    </tr>\n",
              "    <tr>\n",
              "      <th>2012-01-06</th>\n",
              "      <td>143.992935</td>\n",
              "      <td>142.049469</td>\n",
              "      <td>143.639572</td>\n",
              "      <td>143.050644</td>\n",
              "      <td>94765.0</td>\n",
              "      <td>55.331928</td>\n",
              "    </tr>\n",
              "    <tr>\n",
              "      <th>2012-01-09</th>\n",
              "      <td>143.757355</td>\n",
              "      <td>141.224976</td>\n",
              "      <td>143.757355</td>\n",
              "      <td>142.108368</td>\n",
              "      <td>87821.0</td>\n",
              "      <td>54.967449</td>\n",
              "    </tr>\n",
              "    <tr>\n",
              "      <th>...</th>\n",
              "      <td>...</td>\n",
              "      <td>...</td>\n",
              "      <td>...</td>\n",
              "      <td>...</td>\n",
              "      <td>...</td>\n",
              "      <td>...</td>\n",
              "    </tr>\n",
              "    <tr>\n",
              "      <th>2021-02-12</th>\n",
              "      <td>22.500000</td>\n",
              "      <td>21.570000</td>\n",
              "      <td>21.750000</td>\n",
              "      <td>22.309999</td>\n",
              "      <td>397900.0</td>\n",
              "      <td>22.309999</td>\n",
              "    </tr>\n",
              "    <tr>\n",
              "      <th>2021-02-16</th>\n",
              "      <td>22.959999</td>\n",
              "      <td>22.240000</td>\n",
              "      <td>22.700001</td>\n",
              "      <td>22.430000</td>\n",
              "      <td>497700.0</td>\n",
              "      <td>22.430000</td>\n",
              "    </tr>\n",
              "    <tr>\n",
              "      <th>2021-02-17</th>\n",
              "      <td>22.730000</td>\n",
              "      <td>21.940001</td>\n",
              "      <td>22.600000</td>\n",
              "      <td>22.549999</td>\n",
              "      <td>492600.0</td>\n",
              "      <td>22.549999</td>\n",
              "    </tr>\n",
              "    <tr>\n",
              "      <th>2021-02-18</th>\n",
              "      <td>22.549999</td>\n",
              "      <td>21.570000</td>\n",
              "      <td>22.420000</td>\n",
              "      <td>21.590000</td>\n",
              "      <td>430700.0</td>\n",
              "      <td>21.590000</td>\n",
              "    </tr>\n",
              "    <tr>\n",
              "      <th>2021-02-19</th>\n",
              "      <td>22.049999</td>\n",
              "      <td>21.400000</td>\n",
              "      <td>21.620001</td>\n",
              "      <td>21.709999</td>\n",
              "      <td>458700.0</td>\n",
              "      <td>21.709999</td>\n",
              "    </tr>\n",
              "  </tbody>\n",
              "</table>\n",
              "<p>2298 rows × 6 columns</p>\n",
              "</div>"
            ],
            "text/plain": [
              "                  High         Low        Open       Close    Volume  Adj Close\n",
              "Date                                                                           \n",
              "2012-01-03  147.173141  143.404007  144.876328  143.816254  106431.0  55.628059\n",
              "2012-01-04  144.876328  143.109543  143.698471  143.698471  117247.0  55.582478\n",
              "2012-01-05  144.817429  143.168427  143.698471  143.639572   89400.0  55.559715\n",
              "2012-01-06  143.992935  142.049469  143.639572  143.050644   94765.0  55.331928\n",
              "2012-01-09  143.757355  141.224976  143.757355  142.108368   87821.0  54.967449\n",
              "...                ...         ...         ...         ...       ...        ...\n",
              "2021-02-12   22.500000   21.570000   21.750000   22.309999  397900.0  22.309999\n",
              "2021-02-16   22.959999   22.240000   22.700001   22.430000  497700.0  22.430000\n",
              "2021-02-17   22.730000   21.940001   22.600000   22.549999  492600.0  22.549999\n",
              "2021-02-18   22.549999   21.570000   22.420000   21.590000  430700.0  21.590000\n",
              "2021-02-19   22.049999   21.400000   21.620001   21.709999  458700.0  21.709999\n",
              "\n",
              "[2298 rows x 6 columns]"
            ]
          },
          "metadata": {
            "tags": []
          },
          "execution_count": 397
        }
      ]
    },
    {
      "cell_type": "code",
      "metadata": {
        "colab": {
          "base_uri": "https://localhost:8080/"
        },
        "id": "1J5ep1zFeFch",
        "outputId": "645e93d8-fbb0-455e-957b-bb6905a3234e"
      },
      "source": [
        "#Get the number of rows & columns\r\n",
        "df.shape"
      ],
      "execution_count": 398,
      "outputs": [
        {
          "output_type": "execute_result",
          "data": {
            "text/plain": [
              "(2298, 6)"
            ]
          },
          "metadata": {
            "tags": []
          },
          "execution_count": 398
        }
      ]
    },
    {
      "cell_type": "code",
      "metadata": {
        "colab": {
          "base_uri": "https://localhost:8080/",
          "height": 558
        },
        "id": "mtW8Dhjtecdy",
        "outputId": "0a340fd0-74ea-4fc2-ce0a-6ac0053da26c"
      },
      "source": [
        "#Visualize the closing price history\r\n",
        "plt.figure(figsize=(16,8))\r\n",
        "plt.title('Close Price History')\r\n",
        "plt.plot(df['Close'])\r\n",
        "plt.xlabel('Date', fontsize=18)\r\n",
        "plt.ylabel('Close Price USD', fontsize=18)\r\n",
        "plt.show()\r\n"
      ],
      "execution_count": 399,
      "outputs": [
        {
          "output_type": "display_data",
          "data": {
            "image/png": "[encoded data removed]",
            "text/plain": [
              "<Figure size 1152x576 with 1 Axes>"
            ]
          },
          "metadata": {
            "tags": []
          }
        }
      ]
    },
    {
      "cell_type": "code",
      "metadata": {
        "id": "NQEhfJTcfbDk"
      },
      "source": [
        ""
      ],
      "execution_count": 399,
      "outputs": []
    },
    {
      "cell_type": "code",
      "metadata": {
        "colab": {
          "base_uri": "https://localhost:8080/"
        },
        "id": "FKYNe3rNgLP1",
        "outputId": "1e34273e-43e3-4ed3-f8d5-e94128fe8726"
      },
      "source": [
        "#Create a new dataframe only with close column\r\n",
        "data = df.filter(['Close'])\r\n",
        "#Convert the dataframe to a numpy array\r\n",
        "dataset = data.values\r\n",
        "#Get the number of rows to train the model on\r\n",
        "training_data_len = math.ceil(len(dataset)*0.8)\r\n",
        "training_data_len"
      ],
      "execution_count": 400,
      "outputs": [
        {
          "output_type": "execute_result",
          "data": {
            "text/plain": [
              "1839"
            ]
          },
          "metadata": {
            "tags": []
          },
          "execution_count": 400
        }
      ]
    },
    {
      "cell_type": "code",
      "metadata": {
        "colab": {
          "base_uri": "https://localhost:8080/"
        },
        "id": "V_67wfYFhVFo",
        "outputId": "73b8eb6a-35f7-4111-c210-a0f89d01cce7"
      },
      "source": [
        "#Scale the data\r\n",
        "scaler = MinMaxScaler(feature_range=(0,1))\r\n",
        "scaled_data = scaler.fit_transform(dataset)\r\n",
        "scaled_data"
      ],
      "execution_count": 401,
      "outputs": [
        {
          "output_type": "execute_result",
          "data": {
            "text/plain": [
              "array([[0.86961199],\n",
              "       [0.86888359],\n",
              "       [0.86851934],\n",
              "       ...,\n",
              "       [0.11966605],\n",
              "       [0.11372913],\n",
              "       [0.11447124]])"
            ]
          },
          "metadata": {
            "tags": []
          },
          "execution_count": 401
        }
      ]
    },
    {
      "cell_type": "code",
      "metadata": {
        "colab": {
          "base_uri": "https://localhost:8080/"
        },
        "id": "gn6ZuPOwiMHn",
        "outputId": "143be5c3-a5f4-4891-c7fc-a15ad05f9f3e"
      },
      "source": [
        "#Create the training data set\r\n",
        "#Create the scaled data set\r\n",
        "train_data = scaled_data[0:training_data_len, :]\r\n",
        "#Split the data into x_train and y_train dataset\r\n",
        "x_train = []\r\n",
        "y_train = []\r\n",
        "\r\n",
        "for i in range(60, len(train_data)):\r\n",
        "  x_train.append(train_data[i-60:i, 0])\r\n",
        "  y_train.append(train_data[i, 0])\r\n",
        "  if i<=61:\r\n",
        "    print(x_train)\r\n",
        "    print(y_train)\r\n",
        "    print()"
      ],
      "execution_count": 402,
      "outputs": [
        {
          "output_type": "stream",
          "text": [
            "[array([0.86961199, 0.86888359, 0.86851934, 0.86487724, 0.85904993,\n",
            "       0.86232778, 0.85613622, 0.83865411, 0.82663514, 0.80405412,\n",
            "       0.79713416, 0.78147309, 0.79895521, 0.80769622, 0.79057835,\n",
            "       0.80551101, 0.80623942, 0.61138684, 0.63287527, 0.66674681,\n",
            "       0.66019105, 0.65035734, 0.65399944, 0.63724577, 0.63578892,\n",
            "       0.63651737, 0.64088788, 0.63797418, 0.63833842, 0.64052368,\n",
            "       0.64307313, 0.64598683, 0.64780788, 0.64343733, 0.63506052,\n",
            "       0.63578892, 0.63506052, 0.62850471, 0.62377001, 0.6161216 ,\n",
            "       0.61867105, 0.62194895, 0.61138684, 0.60483104, 0.60118893,\n",
            "       0.58734896, 0.58953422, 0.5713237 , 0.5738732 , 0.55639108,\n",
            "       0.55784793, 0.56185424, 0.56549634, 0.55784793, 0.58042896,\n",
            "       0.57569425, 0.5709595 , 0.56840999, 0.57860791, 0.57533   ])]\n",
            "[0.5676815927746494]\n",
            "\n",
            "[array([0.86961199, 0.86888359, 0.86851934, 0.86487724, 0.85904993,\n",
            "       0.86232778, 0.85613622, 0.83865411, 0.82663514, 0.80405412,\n",
            "       0.79713416, 0.78147309, 0.79895521, 0.80769622, 0.79057835,\n",
            "       0.80551101, 0.80623942, 0.61138684, 0.63287527, 0.66674681,\n",
            "       0.66019105, 0.65035734, 0.65399944, 0.63724577, 0.63578892,\n",
            "       0.63651737, 0.64088788, 0.63797418, 0.63833842, 0.64052368,\n",
            "       0.64307313, 0.64598683, 0.64780788, 0.64343733, 0.63506052,\n",
            "       0.63578892, 0.63506052, 0.62850471, 0.62377001, 0.6161216 ,\n",
            "       0.61867105, 0.62194895, 0.61138684, 0.60483104, 0.60118893,\n",
            "       0.58734896, 0.58953422, 0.5713237 , 0.5738732 , 0.55639108,\n",
            "       0.55784793, 0.56185424, 0.56549634, 0.55784793, 0.58042896,\n",
            "       0.57569425, 0.5709595 , 0.56840999, 0.57860791, 0.57533   ]), array([0.86888359, 0.86851934, 0.86487724, 0.85904993, 0.86232778,\n",
            "       0.85613622, 0.83865411, 0.82663514, 0.80405412, 0.79713416,\n",
            "       0.78147309, 0.79895521, 0.80769622, 0.79057835, 0.80551101,\n",
            "       0.80623942, 0.61138684, 0.63287527, 0.66674681, 0.66019105,\n",
            "       0.65035734, 0.65399944, 0.63724577, 0.63578892, 0.63651737,\n",
            "       0.64088788, 0.63797418, 0.63833842, 0.64052368, 0.64307313,\n",
            "       0.64598683, 0.64780788, 0.64343733, 0.63506052, 0.63578892,\n",
            "       0.63506052, 0.62850471, 0.62377001, 0.6161216 , 0.61867105,\n",
            "       0.62194895, 0.61138684, 0.60483104, 0.60118893, 0.58734896,\n",
            "       0.58953422, 0.5713237 , 0.5738732 , 0.55639108, 0.55784793,\n",
            "       0.56185424, 0.56549634, 0.55784793, 0.58042896, 0.57569425,\n",
            "       0.5709595 , 0.56840999, 0.57860791, 0.57533   , 0.56768159])]\n",
            "[0.5676815927746494, 0.5764226522305671]\n",
            "\n"
          ],
          "name": "stdout"
        }
      ]
    },
    {
      "cell_type": "code",
      "metadata": {
        "id": "hYY01shPmQO6"
      },
      "source": [
        "#Convert the x_train and y_train into numpy arrays\r\n",
        "x_train, y_train = np.array(x_train), np.array(y_train)\r\n"
      ],
      "execution_count": 403,
      "outputs": []
    },
    {
      "cell_type": "code",
      "metadata": {
        "colab": {
          "base_uri": "https://localhost:8080/"
        },
        "id": "KnEyc3Tom7jk",
        "outputId": "00c81bab-16cf-473e-cfe3-8c183c6a7784"
      },
      "source": [
        "#Reshape the data\r\n",
        "x_train = np.reshape(x_train, (x_train.shape[0], x_train.shape[1], 1))\r\n",
        "x_train.shape"
      ],
      "execution_count": 404,
      "outputs": [
        {
          "output_type": "execute_result",
          "data": {
            "text/plain": [
              "(1779, 60, 1)"
            ]
          },
          "metadata": {
            "tags": []
          },
          "execution_count": 404
        }
      ]
    },
    {
      "cell_type": "code",
      "metadata": {
        "id": "MR3rK6V7nz5H"
      },
      "source": [
        "#Build the LSTM model\r\n",
        "model = Sequential()\r\n",
        "model.add(LSTM(50, return_sequences=True, input_shape=(x_train.shape[1], 1)))\r\n",
        "model.add(LSTM(50, return_sequences=False))\r\n",
        "model.add(Dense(25))\r\n",
        "model.add(Dense(1))"
      ],
      "execution_count": 405,
      "outputs": []
    },
    {
      "cell_type": "code",
      "metadata": {
        "id": "3A9Z-a18pLG3"
      },
      "source": [
        "#Compile the model\r\n",
        "model.compile(optimizer='adam', loss='mean_squared_error')"
      ],
      "execution_count": 406,
      "outputs": []
    },
    {
      "cell_type": "code",
      "metadata": {
        "colab": {
          "base_uri": "https://localhost:8080/"
        },
        "id": "FEWuEQsRpld_",
        "outputId": "c29c89c7-053c-4155-f9f8-b43f886c6dbf"
      },
      "source": [
        "#Train the model .\r\n",
        "model.fit(x_train, y_train, batch_size=1, epochs=1)"
      ],
      "execution_count": 407,
      "outputs": [
        {
          "output_type": "stream",
          "text": [
            "1779/1779 [==============================] - 49s 26ms/step - loss: 0.0045\n"
          ],
          "name": "stdout"
        },
        {
          "output_type": "execute_result",
          "data": {
            "text/plain": [
              "<tensorflow.python.keras.callbacks.History at 0x7f3c11723518>"
            ]
          },
          "metadata": {
            "tags": []
          },
          "execution_count": 407
        }
      ]
    },
    {
      "cell_type": "code",
      "metadata": {
        "id": "5QOoNSiRqMn0"
      },
      "source": [
        "#Create the testing dataset\r\n",
        "#Create a new array containing scaled values form 1231 to 1291\r\n",
        "test_data = scaled_data[training_data_len - 60:, :]\r\n",
        "#Create the data set x_test, y_test\r\n",
        "x_test = []\r\n",
        "y_test = dataset[training_data_len:,:]\r\n",
        "for i in range(60, len(test_data)):\r\n",
        "  x_test.append(test_data[i-60:i, 0])\r\n"
      ],
      "execution_count": 408,
      "outputs": []
    },
    {
      "cell_type": "code",
      "metadata": {
        "id": "kNmTU3YVxBiO"
      },
      "source": [
        "#Convert the data to a numpy array\r\n",
        "x_test = np.array(x_test)\r\n"
      ],
      "execution_count": 409,
      "outputs": []
    },
    {
      "cell_type": "code",
      "metadata": {
        "id": "aU6_nUBIxWI3"
      },
      "source": [
        "#Reshape the data\r\n",
        "x_test = np.reshape(x_test, (x_test.shape[0], x_test.shape[1], 1))"
      ],
      "execution_count": 410,
      "outputs": []
    },
    {
      "cell_type": "code",
      "metadata": {
        "id": "JEGtskQcz_86"
      },
      "source": [
        "#Get the model predicted price values\r\n",
        "predictions = model.predict(x_test)\r\n",
        "predictions = scaler.inverse_transform(predictions)\r\n"
      ],
      "execution_count": 411,
      "outputs": []
    },
    {
      "cell_type": "code",
      "metadata": {
        "colab": {
          "base_uri": "https://localhost:8080/"
        },
        "id": "X-M4RJVz0yf_",
        "outputId": "656a75d8-3d6b-4f50-b1b2-11028b0e9c40"
      },
      "source": [
        "#Get the Root Mean Squared Error (RMSE)\r\n",
        "rmse=np.sqrt(np.mean(((predictions- y_test)**2)))\r\n",
        "rmse"
      ],
      "execution_count": 412,
      "outputs": [
        {
          "output_type": "execute_result",
          "data": {
            "text/plain": [
              "1.7813416942059186"
            ]
          },
          "metadata": {
            "tags": []
          },
          "execution_count": 412
        }
      ]
    },
    {
      "cell_type": "code",
      "metadata": {
        "colab": {
          "base_uri": "https://localhost:8080/",
          "height": 659
        },
        "id": "PsxSPTUj110m",
        "outputId": "79ee923b-a418-4ad3-a3d5-6e9b110d8f9a"
      },
      "source": [
        "#Plot the data\r\n",
        "train = data[:training_data_len]\r\n",
        "valid = data[training_data_len:]\r\n",
        "valid['Predictions'] = predictions\r\n",
        "#Visualize the data\r\n",
        "plt.figure(figsize=(16,8))\r\n",
        "plt.title('Model')\r\n",
        "plt.xlabel('Date', fontsize=18)\r\n",
        "plt.ylabel('Close Price USD', fontsize=18)\r\n",
        "plt.plot(train['Close'])\r\n",
        "plt.plot(valid[['Close', 'Predictions']])\r\n",
        "plt.legend(['Train', 'Valid', 'Predictions'], loc='upper right')\r\n",
        "plt.show()\r\n"
      ],
      "execution_count": 413,
      "outputs": [
        {
          "output_type": "stream",
          "text": [
            "/usr/local/lib/python3.6/dist-packages/ipykernel_launcher.py:4: SettingWithCopyWarning: \n",
            "A value is trying to be set on a copy of a slice from a DataFrame.\n",
            "Try using .loc[row_indexer,col_indexer] = value instead\n",
            "\n",
            "See the caveats in the documentation: https://pandas.pydata.org/pandas-docs/stable/user_guide/indexing.html#returning-a-view-versus-a-copy\n",
            "  after removing the cwd from sys.path.\n"
          ],
          "name": "stderr"
        },
        {
          "output_type": "display_data",
          "data": {
            "image/png": "[encoded data removed]",
            "text/plain": [
              "<Figure size 1152x576 with 1 Axes>"
            ]
          },
          "metadata": {
            "tags": []
          }
        }
      ]
    },
    {
      "cell_type": "code",
      "metadata": {
        "colab": {
          "base_uri": "https://localhost:8080/",
          "height": 431
        },
        "id": "BEHHv2En7f6q",
        "outputId": "a08426d4-92b9-4e2f-f13e-90f036d267c2"
      },
      "source": [
        "#Show the valid & predicted prices\r\n",
        "valid"
      ],
      "execution_count": 414,
      "outputs": [
        {
          "output_type": "execute_result",
          "data": {
            "text/html": [
              "<div>\n",
              "<style scoped>\n",
              "    .dataframe tbody tr th:only-of-type {\n",
              "        vertical-align: middle;\n",
              "    }\n",
              "\n",
              "    .dataframe tbody tr th {\n",
              "        vertical-align: top;\n",
              "    }\n",
              "\n",
              "    .dataframe thead th {\n",
              "        text-align: right;\n",
              "    }\n",
              "</style>\n",
              "<table border=\"1\" class=\"dataframe\">\n",
              "  <thead>\n",
              "    <tr style=\"text-align: right;\">\n",
              "      <th></th>\n",
              "      <th>Close</th>\n",
              "      <th>Predictions</th>\n",
              "    </tr>\n",
              "    <tr>\n",
              "      <th>Date</th>\n",
              "      <th></th>\n",
              "      <th></th>\n",
              "    </tr>\n",
              "  </thead>\n",
              "  <tbody>\n",
              "    <tr>\n",
              "      <th>2019-04-26</th>\n",
              "      <td>36.570000</td>\n",
              "      <td>35.651508</td>\n",
              "    </tr>\n",
              "    <tr>\n",
              "      <th>2019-04-29</th>\n",
              "      <td>36.700001</td>\n",
              "      <td>35.638382</td>\n",
              "    </tr>\n",
              "    <tr>\n",
              "      <th>2019-04-30</th>\n",
              "      <td>36.689999</td>\n",
              "      <td>35.620316</td>\n",
              "    </tr>\n",
              "    <tr>\n",
              "      <th>2019-05-01</th>\n",
              "      <td>36.430000</td>\n",
              "      <td>35.601021</td>\n",
              "    </tr>\n",
              "    <tr>\n",
              "      <th>2019-05-02</th>\n",
              "      <td>35.310001</td>\n",
              "      <td>35.557938</td>\n",
              "    </tr>\n",
              "    <tr>\n",
              "      <th>...</th>\n",
              "      <td>...</td>\n",
              "      <td>...</td>\n",
              "    </tr>\n",
              "    <tr>\n",
              "      <th>2021-02-12</th>\n",
              "      <td>22.309999</td>\n",
              "      <td>20.372198</td>\n",
              "    </tr>\n",
              "    <tr>\n",
              "      <th>2021-02-16</th>\n",
              "      <td>22.430000</td>\n",
              "      <td>20.552021</td>\n",
              "    </tr>\n",
              "    <tr>\n",
              "      <th>2021-02-17</th>\n",
              "      <td>22.549999</td>\n",
              "      <td>20.766079</td>\n",
              "    </tr>\n",
              "    <tr>\n",
              "      <th>2021-02-18</th>\n",
              "      <td>21.590000</td>\n",
              "      <td>20.986708</td>\n",
              "    </tr>\n",
              "    <tr>\n",
              "      <th>2021-02-19</th>\n",
              "      <td>21.709999</td>\n",
              "      <td>21.097809</td>\n",
              "    </tr>\n",
              "  </tbody>\n",
              "</table>\n",
              "<p>459 rows × 2 columns</p>\n",
              "</div>"
            ],
            "text/plain": [
              "                Close  Predictions\n",
              "Date                              \n",
              "2019-04-26  36.570000    35.651508\n",
              "2019-04-29  36.700001    35.638382\n",
              "2019-04-30  36.689999    35.620316\n",
              "2019-05-01  36.430000    35.601021\n",
              "2019-05-02  35.310001    35.557938\n",
              "...               ...          ...\n",
              "2021-02-12  22.309999    20.372198\n",
              "2021-02-16  22.430000    20.552021\n",
              "2021-02-17  22.549999    20.766079\n",
              "2021-02-18  21.590000    20.986708\n",
              "2021-02-19  21.709999    21.097809\n",
              "\n",
              "[459 rows x 2 columns]"
            ]
          },
          "metadata": {
            "tags": []
          },
          "execution_count": 414
        }
      ]
    },
    {
      "cell_type": "code",
      "metadata": {
        "colab": {
          "base_uri": "https://localhost:8080/"
        },
        "id": "80-soCEj8ApM",
        "outputId": "80a25563-5872-4143-f6ef-275618b85a00"
      },
      "source": [
        "#Get the quote\r\n",
        "aaoi_quote = web.DataReader(st, data_source='yahoo', start='2012-01-01', end=last_day)\r\n",
        "#Create a new dataframe\r\n",
        "new_df = aaoi_quote.filter(['Close'])\r\n",
        "#Get the last 60 days closing price and convert the dataset to an array\r\n",
        "last_60_days = new_df[-60:].values\r\n",
        "#Scale the data to be values between 0 and 1\r\n",
        "last_60_days_scaled = scaler.transform(last_60_days)\r\n",
        "#Create an empty list\r\n",
        "X_test = []\r\n",
        "#Append the past 60 days\r\n",
        "X_test.append(last_60_days_scaled)\r\n",
        "#Convert the X_test to a numpy array\r\n",
        "X_test = np.array(X_test)\r\n",
        "#Reshape the data\r\n",
        "X_test = np.reshape(X_test, (X_test.shape[0], X_test.shape[1], 1))\r\n",
        "#Get the predicted scaled price\r\n",
        "pred_price = model.predict(X_test)\r\n",
        "#Undo the scaling\r\n",
        "pred_price = scaler.inverse_transform(pred_price)\r\n",
        "print(pred_price)\r\n",
        "print(rmse)"
      ],
      "execution_count": 418,
      "outputs": [
        {
          "output_type": "stream",
          "text": [
            "[[21.153791]]\n",
            "1.7813416942059186\n"
          ],
          "name": "stdout"
        }
      ]
    },
    {
      "cell_type": "code",
      "metadata": {
        "colab": {
          "base_uri": "https://localhost:8080/",
          "height": 555
        },
        "id": "Ob3afNUcUI58",
        "outputId": "58b42ad8-1332-4351-a9dd-71c6231b7116"
      },
      "source": [
        "#Get the quote\r\n",
        "aaoi_quote2 = web.DataReader(st, data_source='yahoo', start=last_day, end=last_day)\r\n",
        "print(aaoi_quote2['Close'])"
      ],
      "execution_count": 419,
      "outputs": [
        {
          "output_type": "error",
          "ename": "KeyError",
          "evalue": "ignored",
          "traceback": [
            "\u001b[0;31m---------------------------------------------------------------------------\u001b[0m",
            "\u001b[0;31mKeyError\u001b[0m                                  Traceback (most recent call last)",
            "\u001b[0;32m/usr/local/lib/python3.6/dist-packages/pandas/core/indexes/base.py\u001b[0m in \u001b[0;36mget_loc\u001b[0;34m(self, key, method, tolerance)\u001b[0m\n\u001b[1;32m   2897\u001b[0m             \u001b[0;32mtry\u001b[0m\u001b[0;34m:\u001b[0m\u001b[0;34m\u001b[0m\u001b[0;34m\u001b[0m\u001b[0m\n\u001b[0;32m-> 2898\u001b[0;31m                 \u001b[0;32mreturn\u001b[0m \u001b[0mself\u001b[0m\u001b[0;34m.\u001b[0m\u001b[0m_engine\u001b[0m\u001b[0;34m.\u001b[0m\u001b[0mget_loc\u001b[0m\u001b[0;34m(\u001b[0m\u001b[0mcasted_key\u001b[0m\u001b[0;34m)\u001b[0m\u001b[0;34m\u001b[0m\u001b[0;34m\u001b[0m\u001b[0m\n\u001b[0m\u001b[1;32m   2899\u001b[0m             \u001b[0;32mexcept\u001b[0m \u001b[0mKeyError\u001b[0m \u001b[0;32mas\u001b[0m \u001b[0merr\u001b[0m\u001b[0;34m:\u001b[0m\u001b[0;34m\u001b[0m\u001b[0;34m\u001b[0m\u001b[0m\n",
            "\u001b[0;32mpandas/_libs/index.pyx\u001b[0m in \u001b[0;36mpandas._libs.index.IndexEngine.get_loc\u001b[0;34m()\u001b[0m\n",
            "\u001b[0;32mpandas/_libs/index.pyx\u001b[0m in \u001b[0;36mpandas._libs.index.IndexEngine.get_loc\u001b[0;34m()\u001b[0m\n",
            "\u001b[0;32mpandas/_libs/hashtable_class_helper.pxi\u001b[0m in \u001b[0;36mpandas._libs.hashtable.PyObjectHashTable.get_item\u001b[0;34m()\u001b[0m\n",
            "\u001b[0;32mpandas/_libs/hashtable_class_helper.pxi\u001b[0m in \u001b[0;36mpandas._libs.hashtable.PyObjectHashTable.get_item\u001b[0;34m()\u001b[0m\n",
            "\u001b[0;31mKeyError\u001b[0m: 'Date'",
            "\nThe above exception was the direct cause of the following exception:\n",
            "\u001b[0;31mKeyError\u001b[0m                                  Traceback (most recent call last)",
            "\u001b[0;32m<ipython-input-419-06bf138c97eb>\u001b[0m in \u001b[0;36m<module>\u001b[0;34m()\u001b[0m\n\u001b[1;32m      1\u001b[0m \u001b[0;31m#Get the quote\u001b[0m\u001b[0;34m\u001b[0m\u001b[0;34m\u001b[0m\u001b[0;34m\u001b[0m\u001b[0m\n\u001b[0;32m----> 2\u001b[0;31m \u001b[0maaoi_quote2\u001b[0m \u001b[0;34m=\u001b[0m \u001b[0mweb\u001b[0m\u001b[0;34m.\u001b[0m\u001b[0mDataReader\u001b[0m\u001b[0;34m(\u001b[0m\u001b[0mst\u001b[0m\u001b[0;34m,\u001b[0m \u001b[0mdata_source\u001b[0m\u001b[0;34m=\u001b[0m\u001b[0;34m'yahoo'\u001b[0m\u001b[0;34m,\u001b[0m \u001b[0mstart\u001b[0m\u001b[0;34m=\u001b[0m\u001b[0mlast_day\u001b[0m\u001b[0;34m,\u001b[0m \u001b[0mend\u001b[0m\u001b[0;34m=\u001b[0m\u001b[0mlast_day\u001b[0m\u001b[0;34m)\u001b[0m\u001b[0;34m\u001b[0m\u001b[0;34m\u001b[0m\u001b[0m\n\u001b[0m\u001b[1;32m      3\u001b[0m \u001b[0mprint\u001b[0m\u001b[0;34m(\u001b[0m\u001b[0maaoi_quote2\u001b[0m\u001b[0;34m[\u001b[0m\u001b[0;34m'Close'\u001b[0m\u001b[0;34m]\u001b[0m\u001b[0;34m)\u001b[0m\u001b[0;34m\u001b[0m\u001b[0;34m\u001b[0m\u001b[0m\n",
            "\u001b[0;32m/usr/local/lib/python3.6/dist-packages/pandas/util/_decorators.py\u001b[0m in \u001b[0;36mwrapper\u001b[0;34m(*args, **kwargs)\u001b[0m\n\u001b[1;32m    197\u001b[0m                 \u001b[0;32melse\u001b[0m\u001b[0;34m:\u001b[0m\u001b[0;34m\u001b[0m\u001b[0;34m\u001b[0m\u001b[0m\n\u001b[1;32m    198\u001b[0m                     \u001b[0mkwargs\u001b[0m\u001b[0;34m[\u001b[0m\u001b[0mnew_arg_name\u001b[0m\u001b[0;34m]\u001b[0m \u001b[0;34m=\u001b[0m \u001b[0mnew_arg_value\u001b[0m\u001b[0;34m\u001b[0m\u001b[0;34m\u001b[0m\u001b[0m\n\u001b[0;32m--> 199\u001b[0;31m             \u001b[0;32mreturn\u001b[0m \u001b[0mfunc\u001b[0m\u001b[0;34m(\u001b[0m\u001b[0;34m*\u001b[0m\u001b[0margs\u001b[0m\u001b[0;34m,\u001b[0m \u001b[0;34m**\u001b[0m\u001b[0mkwargs\u001b[0m\u001b[0;34m)\u001b[0m\u001b[0;34m\u001b[0m\u001b[0;34m\u001b[0m\u001b[0m\n\u001b[0m\u001b[1;32m    200\u001b[0m \u001b[0;34m\u001b[0m\u001b[0m\n\u001b[1;32m    201\u001b[0m         \u001b[0;32mreturn\u001b[0m \u001b[0mcast\u001b[0m\u001b[0;34m(\u001b[0m\u001b[0mF\u001b[0m\u001b[0;34m,\u001b[0m \u001b[0mwrapper\u001b[0m\u001b[0;34m)\u001b[0m\u001b[0;34m\u001b[0m\u001b[0;34m\u001b[0m\u001b[0m\n",
            "\u001b[0;32m/usr/local/lib/python3.6/dist-packages/pandas_datareader/data.py\u001b[0m in \u001b[0;36mDataReader\u001b[0;34m(name, data_source, start, end, retry_count, pause, session, api_key)\u001b[0m\n\u001b[1;32m    382\u001b[0m             \u001b[0mretry_count\u001b[0m\u001b[0;34m=\u001b[0m\u001b[0mretry_count\u001b[0m\u001b[0;34m,\u001b[0m\u001b[0;34m\u001b[0m\u001b[0;34m\u001b[0m\u001b[0m\n\u001b[1;32m    383\u001b[0m             \u001b[0mpause\u001b[0m\u001b[0;34m=\u001b[0m\u001b[0mpause\u001b[0m\u001b[0;34m,\u001b[0m\u001b[0;34m\u001b[0m\u001b[0;34m\u001b[0m\u001b[0m\n\u001b[0;32m--> 384\u001b[0;31m             \u001b[0msession\u001b[0m\u001b[0;34m=\u001b[0m\u001b[0msession\u001b[0m\u001b[0;34m,\u001b[0m\u001b[0;34m\u001b[0m\u001b[0;34m\u001b[0m\u001b[0m\n\u001b[0m\u001b[1;32m    385\u001b[0m         ).read()\n\u001b[1;32m    386\u001b[0m \u001b[0;34m\u001b[0m\u001b[0m\n",
            "\u001b[0;32m/usr/local/lib/python3.6/dist-packages/pandas_datareader/base.py\u001b[0m in \u001b[0;36mread\u001b[0;34m(self)\u001b[0m\n\u001b[1;32m    251\u001b[0m         \u001b[0;31m# If a single symbol, (e.g., 'GOOG')\u001b[0m\u001b[0;34m\u001b[0m\u001b[0;34m\u001b[0m\u001b[0;34m\u001b[0m\u001b[0m\n\u001b[1;32m    252\u001b[0m         \u001b[0;32mif\u001b[0m \u001b[0misinstance\u001b[0m\u001b[0;34m(\u001b[0m\u001b[0mself\u001b[0m\u001b[0;34m.\u001b[0m\u001b[0msymbols\u001b[0m\u001b[0;34m,\u001b[0m \u001b[0;34m(\u001b[0m\u001b[0mstring_types\u001b[0m\u001b[0;34m,\u001b[0m \u001b[0mint\u001b[0m\u001b[0;34m)\u001b[0m\u001b[0;34m)\u001b[0m\u001b[0;34m:\u001b[0m\u001b[0;34m\u001b[0m\u001b[0;34m\u001b[0m\u001b[0m\n\u001b[0;32m--> 253\u001b[0;31m             \u001b[0mdf\u001b[0m \u001b[0;34m=\u001b[0m \u001b[0mself\u001b[0m\u001b[0;34m.\u001b[0m\u001b[0m_read_one_data\u001b[0m\u001b[0;34m(\u001b[0m\u001b[0mself\u001b[0m\u001b[0;34m.\u001b[0m\u001b[0murl\u001b[0m\u001b[0;34m,\u001b[0m \u001b[0mparams\u001b[0m\u001b[0;34m=\u001b[0m\u001b[0mself\u001b[0m\u001b[0;34m.\u001b[0m\u001b[0m_get_params\u001b[0m\u001b[0;34m(\u001b[0m\u001b[0mself\u001b[0m\u001b[0;34m.\u001b[0m\u001b[0msymbols\u001b[0m\u001b[0;34m)\u001b[0m\u001b[0;34m)\u001b[0m\u001b[0;34m\u001b[0m\u001b[0;34m\u001b[0m\u001b[0m\n\u001b[0m\u001b[1;32m    254\u001b[0m         \u001b[0;31m# Or multiple symbols, (e.g., ['GOOG', 'AAPL', 'MSFT'])\u001b[0m\u001b[0;34m\u001b[0m\u001b[0;34m\u001b[0m\u001b[0;34m\u001b[0m\u001b[0m\n\u001b[1;32m    255\u001b[0m         \u001b[0;32melif\u001b[0m \u001b[0misinstance\u001b[0m\u001b[0;34m(\u001b[0m\u001b[0mself\u001b[0m\u001b[0;34m.\u001b[0m\u001b[0msymbols\u001b[0m\u001b[0;34m,\u001b[0m \u001b[0mDataFrame\u001b[0m\u001b[0;34m)\u001b[0m\u001b[0;34m:\u001b[0m\u001b[0;34m\u001b[0m\u001b[0;34m\u001b[0m\u001b[0m\n",
            "\u001b[0;32m/usr/local/lib/python3.6/dist-packages/pandas_datareader/yahoo/daily.py\u001b[0m in \u001b[0;36m_read_one_data\u001b[0;34m(self, url, params)\u001b[0m\n\u001b[1;32m    163\u001b[0m         \u001b[0mprices\u001b[0m \u001b[0;34m=\u001b[0m \u001b[0mDataFrame\u001b[0m\u001b[0;34m(\u001b[0m\u001b[0mdata\u001b[0m\u001b[0;34m[\u001b[0m\u001b[0;34m\"prices\"\u001b[0m\u001b[0;34m]\u001b[0m\u001b[0;34m)\u001b[0m\u001b[0;34m\u001b[0m\u001b[0;34m\u001b[0m\u001b[0m\n\u001b[1;32m    164\u001b[0m         \u001b[0mprices\u001b[0m\u001b[0;34m.\u001b[0m\u001b[0mcolumns\u001b[0m \u001b[0;34m=\u001b[0m \u001b[0;34m[\u001b[0m\u001b[0mcol\u001b[0m\u001b[0;34m.\u001b[0m\u001b[0mcapitalize\u001b[0m\u001b[0;34m(\u001b[0m\u001b[0;34m)\u001b[0m \u001b[0;32mfor\u001b[0m \u001b[0mcol\u001b[0m \u001b[0;32min\u001b[0m \u001b[0mprices\u001b[0m\u001b[0;34m.\u001b[0m\u001b[0mcolumns\u001b[0m\u001b[0;34m]\u001b[0m\u001b[0;34m\u001b[0m\u001b[0;34m\u001b[0m\u001b[0m\n\u001b[0;32m--> 165\u001b[0;31m         \u001b[0mprices\u001b[0m\u001b[0;34m[\u001b[0m\u001b[0;34m\"Date\"\u001b[0m\u001b[0;34m]\u001b[0m \u001b[0;34m=\u001b[0m \u001b[0mto_datetime\u001b[0m\u001b[0;34m(\u001b[0m\u001b[0mto_datetime\u001b[0m\u001b[0;34m(\u001b[0m\u001b[0mprices\u001b[0m\u001b[0;34m[\u001b[0m\u001b[0;34m\"Date\"\u001b[0m\u001b[0;34m]\u001b[0m\u001b[0;34m,\u001b[0m \u001b[0munit\u001b[0m\u001b[0;34m=\u001b[0m\u001b[0;34m\"s\"\u001b[0m\u001b[0;34m)\u001b[0m\u001b[0;34m.\u001b[0m\u001b[0mdt\u001b[0m\u001b[0;34m.\u001b[0m\u001b[0mdate\u001b[0m\u001b[0;34m)\u001b[0m\u001b[0;34m\u001b[0m\u001b[0;34m\u001b[0m\u001b[0m\n\u001b[0m\u001b[1;32m    166\u001b[0m \u001b[0;34m\u001b[0m\u001b[0m\n\u001b[1;32m    167\u001b[0m         \u001b[0;32mif\u001b[0m \u001b[0;34m\"Data\"\u001b[0m \u001b[0;32min\u001b[0m \u001b[0mprices\u001b[0m\u001b[0;34m.\u001b[0m\u001b[0mcolumns\u001b[0m\u001b[0;34m:\u001b[0m\u001b[0;34m\u001b[0m\u001b[0;34m\u001b[0m\u001b[0m\n",
            "\u001b[0;32m/usr/local/lib/python3.6/dist-packages/pandas/core/frame.py\u001b[0m in \u001b[0;36m__getitem__\u001b[0;34m(self, key)\u001b[0m\n\u001b[1;32m   2904\u001b[0m             \u001b[0;32mif\u001b[0m \u001b[0mself\u001b[0m\u001b[0;34m.\u001b[0m\u001b[0mcolumns\u001b[0m\u001b[0;34m.\u001b[0m\u001b[0mnlevels\u001b[0m \u001b[0;34m>\u001b[0m \u001b[0;36m1\u001b[0m\u001b[0;34m:\u001b[0m\u001b[0;34m\u001b[0m\u001b[0;34m\u001b[0m\u001b[0m\n\u001b[1;32m   2905\u001b[0m                 \u001b[0;32mreturn\u001b[0m \u001b[0mself\u001b[0m\u001b[0;34m.\u001b[0m\u001b[0m_getitem_multilevel\u001b[0m\u001b[0;34m(\u001b[0m\u001b[0mkey\u001b[0m\u001b[0;34m)\u001b[0m\u001b[0;34m\u001b[0m\u001b[0;34m\u001b[0m\u001b[0m\n\u001b[0;32m-> 2906\u001b[0;31m             \u001b[0mindexer\u001b[0m \u001b[0;34m=\u001b[0m \u001b[0mself\u001b[0m\u001b[0;34m.\u001b[0m\u001b[0mcolumns\u001b[0m\u001b[0;34m.\u001b[0m\u001b[0mget_loc\u001b[0m\u001b[0;34m(\u001b[0m\u001b[0mkey\u001b[0m\u001b[0;34m)\u001b[0m\u001b[0;34m\u001b[0m\u001b[0;34m\u001b[0m\u001b[0m\n\u001b[0m\u001b[1;32m   2907\u001b[0m             \u001b[0;32mif\u001b[0m \u001b[0mis_integer\u001b[0m\u001b[0;34m(\u001b[0m\u001b[0mindexer\u001b[0m\u001b[0;34m)\u001b[0m\u001b[0;34m:\u001b[0m\u001b[0;34m\u001b[0m\u001b[0;34m\u001b[0m\u001b[0m\n\u001b[1;32m   2908\u001b[0m                 \u001b[0mindexer\u001b[0m \u001b[0;34m=\u001b[0m \u001b[0;34m[\u001b[0m\u001b[0mindexer\u001b[0m\u001b[0;34m]\u001b[0m\u001b[0;34m\u001b[0m\u001b[0;34m\u001b[0m\u001b[0m\n",
            "\u001b[0;32m/usr/local/lib/python3.6/dist-packages/pandas/core/indexes/base.py\u001b[0m in \u001b[0;36mget_loc\u001b[0;34m(self, key, method, tolerance)\u001b[0m\n\u001b[1;32m   2898\u001b[0m                 \u001b[0;32mreturn\u001b[0m \u001b[0mself\u001b[0m\u001b[0;34m.\u001b[0m\u001b[0m_engine\u001b[0m\u001b[0;34m.\u001b[0m\u001b[0mget_loc\u001b[0m\u001b[0;34m(\u001b[0m\u001b[0mcasted_key\u001b[0m\u001b[0;34m)\u001b[0m\u001b[0;34m\u001b[0m\u001b[0;34m\u001b[0m\u001b[0m\n\u001b[1;32m   2899\u001b[0m             \u001b[0;32mexcept\u001b[0m \u001b[0mKeyError\u001b[0m \u001b[0;32mas\u001b[0m \u001b[0merr\u001b[0m\u001b[0;34m:\u001b[0m\u001b[0;34m\u001b[0m\u001b[0;34m\u001b[0m\u001b[0m\n\u001b[0;32m-> 2900\u001b[0;31m                 \u001b[0;32mraise\u001b[0m \u001b[0mKeyError\u001b[0m\u001b[0;34m(\u001b[0m\u001b[0mkey\u001b[0m\u001b[0;34m)\u001b[0m \u001b[0;32mfrom\u001b[0m \u001b[0merr\u001b[0m\u001b[0;34m\u001b[0m\u001b[0;34m\u001b[0m\u001b[0m\n\u001b[0m\u001b[1;32m   2901\u001b[0m \u001b[0;34m\u001b[0m\u001b[0m\n\u001b[1;32m   2902\u001b[0m         \u001b[0;32mif\u001b[0m \u001b[0mtolerance\u001b[0m \u001b[0;32mis\u001b[0m \u001b[0;32mnot\u001b[0m \u001b[0;32mNone\u001b[0m\u001b[0;34m:\u001b[0m\u001b[0;34m\u001b[0m\u001b[0;34m\u001b[0m\u001b[0m\n",
            "\u001b[0;31mKeyError\u001b[0m: 'Date'"
          ]
        }
      ]
    }
  ]
}