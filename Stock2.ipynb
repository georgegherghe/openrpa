{
  "nbformat": 4,
  "nbformat_minor": 0,
  "metadata": {
    "colab": {
      "name": "Untitled1.ipynb",
      "provenance": [],
      "authorship_tag": "ABX9TyMacyfRfD5gaAwpjoj5noNA",
      "include_colab_link": true
    },
    "kernelspec": {
      "name": "python3",
      "display_name": "Python 3"
    }
  },
  "cells": [
    {
      "cell_type": "markdown",
      "metadata": {
        "id": "view-in-github",
        "colab_type": "text"
      },
      "source": [
        "<a href=\"https://colab.research.google.com/github/georgegherghe/openrpa/blob/master/Stock2.ipynb\" target=\"_parent\"><img src=\"https://colab.research.google.com/assets/colab-badge.svg\" alt=\"Open In Colab\"/></a>"
      ]
    },
    {
      "cell_type": "code",
      "metadata": {
        "id": "zq36ZYwDb0Zg"
      },
      "source": [
        "#Import the lib\r\n",
        "import math\r\n",
        "import pandas_datareader as web\r\n",
        "import numpy as np\r\n",
        "import pandas as pd\r\n",
        "from sklearn.preprocessing import MinMaxScaler\r\n",
        "from keras.models import Sequential\r\n",
        "from keras.layers import Dense, LSTM\r\n",
        "import matplotlib.pyplot as plt\r\n",
        "plt.style.use('fivethirtyeight')"
      ],
      "execution_count": 3,
      "outputs": []
    },
    {
      "cell_type": "code",
      "metadata": {
        "colab": {
          "base_uri": "https://localhost:8080/",
          "height": 431
        },
        "id": "uyufvj3KdHL2",
        "outputId": "d6508254-da26-45b1-f274-dda68c666c65"
      },
      "source": [
        "#Get the stock quote\r\n",
        "df = web.DataReader('AAOI', data_source='yahoo', start='2016-01-01', end='2021-02-18')\r\n",
        "df"
      ],
      "execution_count": 4,
      "outputs": [
        {
          "output_type": "execute_result",
          "data": {
            "text/html": [
              "<div>\n",
              "<style scoped>\n",
              "    .dataframe tbody tr th:only-of-type {\n",
              "        vertical-align: middle;\n",
              "    }\n",
              "\n",
              "    .dataframe tbody tr th {\n",
              "        vertical-align: top;\n",
              "    }\n",
              "\n",
              "    .dataframe thead th {\n",
              "        text-align: right;\n",
              "    }\n",
              "</style>\n",
              "<table border=\"1\" class=\"dataframe\">\n",
              "  <thead>\n",
              "    <tr style=\"text-align: right;\">\n",
              "      <th></th>\n",
              "      <th>High</th>\n",
              "      <th>Low</th>\n",
              "      <th>Open</th>\n",
              "      <th>Close</th>\n",
              "      <th>Volume</th>\n",
              "      <th>Adj Close</th>\n",
              "    </tr>\n",
              "    <tr>\n",
              "      <th>Date</th>\n",
              "      <th></th>\n",
              "      <th></th>\n",
              "      <th></th>\n",
              "      <th></th>\n",
              "      <th></th>\n",
              "      <th></th>\n",
              "    </tr>\n",
              "  </thead>\n",
              "  <tbody>\n",
              "    <tr>\n",
              "      <th>2016-01-04</th>\n",
              "      <td>17.100000</td>\n",
              "      <td>16.280001</td>\n",
              "      <td>16.959999</td>\n",
              "      <td>16.290001</td>\n",
              "      <td>385500</td>\n",
              "      <td>16.290001</td>\n",
              "    </tr>\n",
              "    <tr>\n",
              "      <th>2016-01-05</th>\n",
              "      <td>16.360001</td>\n",
              "      <td>15.600000</td>\n",
              "      <td>16.299999</td>\n",
              "      <td>16.080000</td>\n",
              "      <td>322600</td>\n",
              "      <td>16.080000</td>\n",
              "    </tr>\n",
              "    <tr>\n",
              "      <th>2016-01-06</th>\n",
              "      <td>16.110001</td>\n",
              "      <td>15.688000</td>\n",
              "      <td>15.700000</td>\n",
              "      <td>16.049999</td>\n",
              "      <td>258700</td>\n",
              "      <td>16.049999</td>\n",
              "    </tr>\n",
              "    <tr>\n",
              "      <th>2016-01-07</th>\n",
              "      <td>16.030001</td>\n",
              "      <td>14.920000</td>\n",
              "      <td>15.480000</td>\n",
              "      <td>15.290000</td>\n",
              "      <td>374300</td>\n",
              "      <td>15.290000</td>\n",
              "    </tr>\n",
              "    <tr>\n",
              "      <th>2016-01-08</th>\n",
              "      <td>15.690000</td>\n",
              "      <td>14.650000</td>\n",
              "      <td>15.420000</td>\n",
              "      <td>14.790000</td>\n",
              "      <td>222400</td>\n",
              "      <td>14.790000</td>\n",
              "    </tr>\n",
              "    <tr>\n",
              "      <th>...</th>\n",
              "      <td>...</td>\n",
              "      <td>...</td>\n",
              "      <td>...</td>\n",
              "      <td>...</td>\n",
              "      <td>...</td>\n",
              "      <td>...</td>\n",
              "    </tr>\n",
              "    <tr>\n",
              "      <th>2021-02-11</th>\n",
              "      <td>12.380000</td>\n",
              "      <td>11.600000</td>\n",
              "      <td>11.900000</td>\n",
              "      <td>12.360000</td>\n",
              "      <td>522300</td>\n",
              "      <td>12.360000</td>\n",
              "    </tr>\n",
              "    <tr>\n",
              "      <th>2021-02-12</th>\n",
              "      <td>12.640000</td>\n",
              "      <td>12.020000</td>\n",
              "      <td>12.590000</td>\n",
              "      <td>12.250000</td>\n",
              "      <td>455300</td>\n",
              "      <td>12.250000</td>\n",
              "    </tr>\n",
              "    <tr>\n",
              "      <th>2021-02-16</th>\n",
              "      <td>12.970000</td>\n",
              "      <td>12.080000</td>\n",
              "      <td>12.300000</td>\n",
              "      <td>12.830000</td>\n",
              "      <td>746000</td>\n",
              "      <td>12.830000</td>\n",
              "    </tr>\n",
              "    <tr>\n",
              "      <th>2021-02-17</th>\n",
              "      <td>12.820000</td>\n",
              "      <td>12.080000</td>\n",
              "      <td>12.770000</td>\n",
              "      <td>12.360000</td>\n",
              "      <td>422800</td>\n",
              "      <td>12.360000</td>\n",
              "    </tr>\n",
              "    <tr>\n",
              "      <th>2021-02-18</th>\n",
              "      <td>12.390000</td>\n",
              "      <td>11.900000</td>\n",
              "      <td>12.220000</td>\n",
              "      <td>11.940000</td>\n",
              "      <td>605600</td>\n",
              "      <td>11.940000</td>\n",
              "    </tr>\n",
              "  </tbody>\n",
              "</table>\n",
              "<p>1291 rows × 6 columns</p>\n",
              "</div>"
            ],
            "text/plain": [
              "                 High        Low       Open      Close  Volume  Adj Close\n",
              "Date                                                                     \n",
              "2016-01-04  17.100000  16.280001  16.959999  16.290001  385500  16.290001\n",
              "2016-01-05  16.360001  15.600000  16.299999  16.080000  322600  16.080000\n",
              "2016-01-06  16.110001  15.688000  15.700000  16.049999  258700  16.049999\n",
              "2016-01-07  16.030001  14.920000  15.480000  15.290000  374300  15.290000\n",
              "2016-01-08  15.690000  14.650000  15.420000  14.790000  222400  14.790000\n",
              "...               ...        ...        ...        ...     ...        ...\n",
              "2021-02-11  12.380000  11.600000  11.900000  12.360000  522300  12.360000\n",
              "2021-02-12  12.640000  12.020000  12.590000  12.250000  455300  12.250000\n",
              "2021-02-16  12.970000  12.080000  12.300000  12.830000  746000  12.830000\n",
              "2021-02-17  12.820000  12.080000  12.770000  12.360000  422800  12.360000\n",
              "2021-02-18  12.390000  11.900000  12.220000  11.940000  605600  11.940000\n",
              "\n",
              "[1291 rows x 6 columns]"
            ]
          },
          "metadata": {
            "tags": []
          },
          "execution_count": 4
        }
      ]
    },
    {
      "cell_type": "code",
      "metadata": {
        "colab": {
          "base_uri": "https://localhost:8080/"
        },
        "id": "1J5ep1zFeFch",
        "outputId": "835b7c40-1ef1-415a-bb56-32865a429e92"
      },
      "source": [
        "#Get the number of rows & columns\r\n",
        "df.shape"
      ],
      "execution_count": 5,
      "outputs": [
        {
          "output_type": "execute_result",
          "data": {
            "text/plain": [
              "(1291, 6)"
            ]
          },
          "metadata": {
            "tags": []
          },
          "execution_count": 5
        }
      ]
    },
    {
      "cell_type": "code",
      "metadata": {
        "colab": {
          "base_uri": "https://localhost:8080/",
          "height": 558
        },
        "id": "mtW8Dhjtecdy",
        "outputId": "ebdf192e-3fd0-4e61-ba54-2f04b55a36eb"
      },
      "source": [
        "#Visualize the closing price history\r\n",
        "plt.figure(figsize=(16,8))\r\n",
        "plt.title('Close Price History')\r\n",
        "plt.plot(df['Close'])\r\n",
        "plt.xlabel('Date', fontsize=18)\r\n",
        "plt.ylabel('Close Price USD', fontsize=18)\r\n",
        "plt.show()\r\n"
      ],
      "execution_count": 6,
      "outputs": [
        {
          "output_type": "display_data",
          "data": {
            "image/png": "[encoded data removed]",
            "text/plain": [
              "<Figure size 1152x576 with 1 Axes>"
            ]
          },
          "metadata": {
            "tags": []
          }
        }
      ]
    },
    {
      "cell_type": "code",
      "metadata": {
        "id": "NQEhfJTcfbDk"
      },
      "source": [
        ""
      ],
      "execution_count": null,
      "outputs": []
    },
    {
      "cell_type": "code",
      "metadata": {
        "colab": {
          "base_uri": "https://localhost:8080/"
        },
        "id": "FKYNe3rNgLP1",
        "outputId": "e446469f-e062-4445-ff02-b7c2804e2346"
      },
      "source": [
        "#Create a new dataframe only with close column\r\n",
        "data = df.filter(['Close'])\r\n",
        "#Convert the dataframe to a numpy array\r\n",
        "dataset = data.values\r\n",
        "#Get the number of rows to train the model on\r\n",
        "training_data_len = math.ceil(len(dataset)*0.8)\r\n",
        "training_data_len"
      ],
      "execution_count": 7,
      "outputs": [
        {
          "output_type": "execute_result",
          "data": {
            "text/plain": [
              "1033"
            ]
          },
          "metadata": {
            "tags": []
          },
          "execution_count": 7
        }
      ]
    },
    {
      "cell_type": "code",
      "metadata": {
        "colab": {
          "base_uri": "https://localhost:8080/"
        },
        "id": "V_67wfYFhVFo",
        "outputId": "21220886-d654-47c3-e54d-f9566f51ad23"
      },
      "source": [
        "#Scale the data\r\n",
        "scaler = MinMaxScaler(feature_range=(0,1))\r\n",
        "scaled_data = scaler.fit_transform(dataset)\r\n",
        "scaled_data"
      ],
      "execution_count": 8,
      "outputs": [
        {
          "output_type": "execute_result",
          "data": {
            "text/plain": [
              "array([[0.11465307],\n",
              "       [0.11242163],\n",
              "       [0.11210285],\n",
              "       ...,\n",
              "       [0.07788758],\n",
              "       [0.07289342],\n",
              "       [0.06843056]])"
            ]
          },
          "metadata": {
            "tags": []
          },
          "execution_count": 8
        }
      ]
    },
    {
      "cell_type": "code",
      "metadata": {
        "colab": {
          "base_uri": "https://localhost:8080/"
        },
        "id": "gn6ZuPOwiMHn",
        "outputId": "4d623e48-ce95-4f55-c33c-69cbd9155d2b"
      },
      "source": [
        "#Create the training data set\r\n",
        "#Create the scaled data set\r\n",
        "train_data = scaled_data[0:training_data_len, :]\r\n",
        "#Split the data into x_train and y_train dataset\r\n",
        "x_train = []\r\n",
        "y_train = []\r\n",
        "\r\n",
        "for i in range(60, len(train_data)):\r\n",
        "  x_train.append(train_data[i-60:i, 0])\r\n",
        "  y_train.append(train_data[i, 0])\r\n",
        "  if i<=61:\r\n",
        "    print(x_train)\r\n",
        "    print(y_train)\r\n",
        "    print()"
      ],
      "execution_count": 11,
      "outputs": [
        {
          "output_type": "stream",
          "text": [
            "[array([0.11465307, 0.11242163, 0.11210285, 0.1040272 , 0.09871427,\n",
            "       0.0978642 , 0.10020189, 0.09000106, 0.09201997, 0.08415684,\n",
            "       0.07554988, 0.07289342, 0.07895017, 0.089151  , 0.082988  ,\n",
            "       0.10243333, 0.11454681, 0.11444055, 0.11550314, 0.11125279,\n",
            "       0.1053023 , 0.10540856, 0.11316544, 0.10572734, 0.09754543,\n",
            "       0.09595154, 0.0960578 , 0.09616406, 0.10413346, 0.11135904,\n",
            "       0.11614069, 0.11656571, 0.11135904, 0.11497184, 0.11635321,\n",
            "       0.11125279, 0.12102858, 0.13516097, 0.13271703, 0.13632983,\n",
            "       0.1359048 , 0.13622356, 0.1353735 , 0.1340984 , 0.12209117,\n",
            "       0.12240995, 0.12262247, 0.12867921, 0.12697907, 0.1212411 ,\n",
            "       0.12644777, 0.12910423, 0.12814791, 0.12708532, 0.1132717 ,\n",
            "       0.11178409, 0.10934013, 0.10307087, 0.101477  , 0.10381469])]\n",
            "[0.09998937186678823]\n",
            "\n",
            "[array([0.11465307, 0.11242163, 0.11210285, 0.1040272 , 0.09871427,\n",
            "       0.0978642 , 0.10020189, 0.09000106, 0.09201997, 0.08415684,\n",
            "       0.07554988, 0.07289342, 0.07895017, 0.089151  , 0.082988  ,\n",
            "       0.10243333, 0.11454681, 0.11444055, 0.11550314, 0.11125279,\n",
            "       0.1053023 , 0.10540856, 0.11316544, 0.10572734, 0.09754543,\n",
            "       0.09595154, 0.0960578 , 0.09616406, 0.10413346, 0.11135904,\n",
            "       0.11614069, 0.11656571, 0.11135904, 0.11497184, 0.11635321,\n",
            "       0.11125279, 0.12102858, 0.13516097, 0.13271703, 0.13632983,\n",
            "       0.1359048 , 0.13622356, 0.1353735 , 0.1340984 , 0.12209117,\n",
            "       0.12240995, 0.12262247, 0.12867921, 0.12697907, 0.1212411 ,\n",
            "       0.12644777, 0.12910423, 0.12814791, 0.12708532, 0.1132717 ,\n",
            "       0.11178409, 0.10934013, 0.10307087, 0.101477  , 0.10381469]), array([0.11242163, 0.11210285, 0.1040272 , 0.09871427, 0.0978642 ,\n",
            "       0.10020189, 0.09000106, 0.09201997, 0.08415684, 0.07554988,\n",
            "       0.07289342, 0.07895017, 0.089151  , 0.082988  , 0.10243333,\n",
            "       0.11454681, 0.11444055, 0.11550314, 0.11125279, 0.1053023 ,\n",
            "       0.10540856, 0.11316544, 0.10572734, 0.09754543, 0.09595154,\n",
            "       0.0960578 , 0.09616406, 0.10413346, 0.11135904, 0.11614069,\n",
            "       0.11656571, 0.11135904, 0.11497184, 0.11635321, 0.11125279,\n",
            "       0.12102858, 0.13516097, 0.13271703, 0.13632983, 0.1359048 ,\n",
            "       0.13622356, 0.1353735 , 0.1340984 , 0.12209117, 0.12240995,\n",
            "       0.12262247, 0.12867921, 0.12697907, 0.1212411 , 0.12644777,\n",
            "       0.12910423, 0.12814791, 0.12708532, 0.1132717 , 0.11178409,\n",
            "       0.10934013, 0.10307087, 0.101477  , 0.10381469, 0.09998937])]\n",
            "[0.09998937186678823, 0.10137073530954459]\n",
            "\n"
          ],
          "name": "stdout"
        }
      ]
    },
    {
      "cell_type": "code",
      "metadata": {
        "id": "hYY01shPmQO6"
      },
      "source": [
        "#Convert the x_train and y_train into numpy arrays\r\n",
        "x_train, y_train = np.array(x_train), np.array(y_train)\r\n"
      ],
      "execution_count": 12,
      "outputs": []
    },
    {
      "cell_type": "code",
      "metadata": {
        "colab": {
          "base_uri": "https://localhost:8080/"
        },
        "id": "KnEyc3Tom7jk",
        "outputId": "c4966074-3695-47a3-fe2e-d1af093e7c96"
      },
      "source": [
        "#Reshape the data\r\n",
        "x_train = np.reshape(x_train, (x_train.shape[0], x_train.shape[1], 1))\r\n",
        "x_train.shape"
      ],
      "execution_count": 15,
      "outputs": [
        {
          "output_type": "execute_result",
          "data": {
            "text/plain": [
              "(973, 60, 1)"
            ]
          },
          "metadata": {
            "tags": []
          },
          "execution_count": 15
        }
      ]
    },
    {
      "cell_type": "code",
      "metadata": {
        "id": "MR3rK6V7nz5H"
      },
      "source": [
        "#Build the LSTM model\r\n",
        "model = Sequential()\r\n",
        "model.add(LSTM(50, return_sequences=True, input_shape=(x_train.shape[1], 1)))\r\n",
        "model.add(LSTM(50, return_sequences=False))\r\n",
        "model.add(Dense(25))\r\n",
        "model.add(Dense(1))"
      ],
      "execution_count": 17,
      "outputs": []
    },
    {
      "cell_type": "code",
      "metadata": {
        "id": "3A9Z-a18pLG3"
      },
      "source": [
        "#Compile the model\r\n",
        "model.compile(optimizer='adam', loss='mean_squared_error')"
      ],
      "execution_count": 18,
      "outputs": []
    },
    {
      "cell_type": "code",
      "metadata": {
        "colab": {
          "base_uri": "https://localhost:8080/"
        },
        "id": "FEWuEQsRpld_",
        "outputId": "636616e4-b2cf-4670-ecac-c521c64c4fc6"
      },
      "source": [
        "#Train the model .\r\n",
        "model.fit(x_train, y_train, batch_size=1, epochs=1)"
      ],
      "execution_count": 19,
      "outputs": [
        {
          "output_type": "stream",
          "text": [
            "973/973 [==============================] - 25s 23ms/step - loss: 0.0064\n"
          ],
          "name": "stdout"
        },
        {
          "output_type": "execute_result",
          "data": {
            "text/plain": [
              "<tensorflow.python.keras.callbacks.History at 0x7fcc3f3dbba8>"
            ]
          },
          "metadata": {
            "tags": []
          },
          "execution_count": 19
        }
      ]
    },
    {
      "cell_type": "code",
      "metadata": {
        "id": "5QOoNSiRqMn0"
      },
      "source": [
        "#Create the testing dataset\r\n",
        "#Create a new array containing scaled values form 1231 to 1291\r\n",
        "test_data = scaled_data[training_data_len - 60:, :]\r\n",
        "#Create the data set x_test, y_test\r\n",
        "x_test = []\r\n",
        "y_test = dataset[training_data_len:,:]\r\n",
        "for i in range(60, len(test_data)):\r\n",
        "  x_test.append(test_data[i-60:i, 0])\r\n"
      ],
      "execution_count": 38,
      "outputs": []
    },
    {
      "cell_type": "code",
      "metadata": {
        "colab": {
          "base_uri": "https://localhost:8080/"
        },
        "id": "kNmTU3YVxBiO",
        "outputId": "5acad492-0a55-489b-86d5-3fbf3e94b66d"
      },
      "source": [
        "#Convert the data to a numpy array\r\n",
        "x_test = np.array(x_test)\r\n"
      ],
      "execution_count": 40,
      "outputs": [
        {
          "output_type": "execute_result",
          "data": {
            "text/plain": [
              "(258, 60)"
            ]
          },
          "metadata": {
            "tags": []
          },
          "execution_count": 40
        }
      ]
    },
    {
      "cell_type": "code",
      "metadata": {
        "id": "aU6_nUBIxWI3"
      },
      "source": [
        "#Reshape the data\r\n",
        "x_test = np.reshape(x_test, (x_test.shape[0], x_test.shape[1], 1))"
      ],
      "execution_count": 41,
      "outputs": []
    },
    {
      "cell_type": "code",
      "metadata": {
        "id": "JEGtskQcz_86"
      },
      "source": [
        "#Get the model predicted price values\r\n",
        "predictions = model.predict(x_test)\r\n",
        "predictions = scaler.inverse_transform(predictions)\r\n"
      ],
      "execution_count": 42,
      "outputs": []
    },
    {
      "cell_type": "code",
      "metadata": {
        "colab": {
          "base_uri": "https://localhost:8080/"
        },
        "id": "X-M4RJVz0yf_",
        "outputId": "e0b2d4cd-7848-4319-9c41-2fd9ec3fb4ea"
      },
      "source": [
        "#Get the Root Mean Squared Error (RMSE)\r\n",
        "rmse = np.sqrt(np.mean(predictions - y_test)**2)\r\n",
        "rmse"
      ],
      "execution_count": 44,
      "outputs": [
        {
          "output_type": "execute_result",
          "data": {
            "text/plain": [
              "0.5748408931170323"
            ]
          },
          "metadata": {
            "tags": []
          },
          "execution_count": 44
        }
      ]
    },
    {
      "cell_type": "code",
      "metadata": {
        "id": "PsxSPTUj110m"
      },
      "source": [
        "#Plot the data\r\n",
        "train = data[:training_data_len]\r\n",
        "valid = data[training_data_len:]\r\n",
        "valid['Predictions'] = predictions\r\n",
        "#Visualize the data\r\n"
      ],
      "execution_count": null,
      "outputs": []
    }
  ]
}