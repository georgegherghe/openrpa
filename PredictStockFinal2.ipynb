{
  "nbformat": 4,
  "nbformat_minor": 0,
  "metadata": {
    "colab": {
      "name": "Untitled1.ipynb",
      "provenance": [],
      "authorship_tag": "ABX9TyNyxN9OTuSXpVyVhVgcJiIb",
      "include_colab_link": true
    },
    "kernelspec": {
      "name": "python3",
      "display_name": "Python 3"
    }
  },
  "cells": [
    {
      "cell_type": "markdown",
      "metadata": {
        "id": "view-in-github",
        "colab_type": "text"
      },
      "source": [
        "<a href=\"https://colab.research.google.com/github/georgegherghe/openrpa/blob/master/PredictStockFinal2.ipynb\" target=\"_parent\"><img src=\"https://colab.research.google.com/assets/colab-badge.svg\" alt=\"Open In Colab\"/></a>"
      ]
    },
    {
      "cell_type": "code",
      "metadata": {
        "id": "zq36ZYwDb0Zg"
      },
      "source": [
        "#Import the lib\r\n",
        "import math\r\n",
        "import pandas_datareader as web\r\n",
        "import numpy as np\r\n",
        "import pandas as pd\r\n",
        "from sklearn.preprocessing import MinMaxScaler\r\n",
        "from keras.models import Sequential\r\n",
        "from keras.layers import Dense, LSTM\r\n",
        "import matplotlib.pyplot as plt\r\n",
        "plt.style.use('fivethirtyeight')"
      ],
      "execution_count": 59,
      "outputs": []
    },
    {
      "cell_type": "code",
      "metadata": {
        "colab": {
          "base_uri": "https://localhost:8080/",
          "height": 431
        },
        "id": "uyufvj3KdHL2",
        "outputId": "47134a09-49d3-4a82-b225-884c4ec82d2e"
      },
      "source": [
        "#Get the stock quote\r\n",
        "df = web.DataReader('AAOI', data_source='yahoo', start='2016-01-01', end='2021-02-18')\r\n",
        "df"
      ],
      "execution_count": 60,
      "outputs": [
        {
          "output_type": "execute_result",
          "data": {
            "text/html": [
              "<div>\n",
              "<style scoped>\n",
              "    .dataframe tbody tr th:only-of-type {\n",
              "        vertical-align: middle;\n",
              "    }\n",
              "\n",
              "    .dataframe tbody tr th {\n",
              "        vertical-align: top;\n",
              "    }\n",
              "\n",
              "    .dataframe thead th {\n",
              "        text-align: right;\n",
              "    }\n",
              "</style>\n",
              "<table border=\"1\" class=\"dataframe\">\n",
              "  <thead>\n",
              "    <tr style=\"text-align: right;\">\n",
              "      <th></th>\n",
              "      <th>High</th>\n",
              "      <th>Low</th>\n",
              "      <th>Open</th>\n",
              "      <th>Close</th>\n",
              "      <th>Volume</th>\n",
              "      <th>Adj Close</th>\n",
              "    </tr>\n",
              "    <tr>\n",
              "      <th>Date</th>\n",
              "      <th></th>\n",
              "      <th></th>\n",
              "      <th></th>\n",
              "      <th></th>\n",
              "      <th></th>\n",
              "      <th></th>\n",
              "    </tr>\n",
              "  </thead>\n",
              "  <tbody>\n",
              "    <tr>\n",
              "      <th>2016-01-04</th>\n",
              "      <td>17.100000</td>\n",
              "      <td>16.280001</td>\n",
              "      <td>16.959999</td>\n",
              "      <td>16.290001</td>\n",
              "      <td>385500</td>\n",
              "      <td>16.290001</td>\n",
              "    </tr>\n",
              "    <tr>\n",
              "      <th>2016-01-05</th>\n",
              "      <td>16.360001</td>\n",
              "      <td>15.600000</td>\n",
              "      <td>16.299999</td>\n",
              "      <td>16.080000</td>\n",
              "      <td>322600</td>\n",
              "      <td>16.080000</td>\n",
              "    </tr>\n",
              "    <tr>\n",
              "      <th>2016-01-06</th>\n",
              "      <td>16.110001</td>\n",
              "      <td>15.688000</td>\n",
              "      <td>15.700000</td>\n",
              "      <td>16.049999</td>\n",
              "      <td>258700</td>\n",
              "      <td>16.049999</td>\n",
              "    </tr>\n",
              "    <tr>\n",
              "      <th>2016-01-07</th>\n",
              "      <td>16.030001</td>\n",
              "      <td>14.920000</td>\n",
              "      <td>15.480000</td>\n",
              "      <td>15.290000</td>\n",
              "      <td>374300</td>\n",
              "      <td>15.290000</td>\n",
              "    </tr>\n",
              "    <tr>\n",
              "      <th>2016-01-08</th>\n",
              "      <td>15.690000</td>\n",
              "      <td>14.650000</td>\n",
              "      <td>15.420000</td>\n",
              "      <td>14.790000</td>\n",
              "      <td>222400</td>\n",
              "      <td>14.790000</td>\n",
              "    </tr>\n",
              "    <tr>\n",
              "      <th>...</th>\n",
              "      <td>...</td>\n",
              "      <td>...</td>\n",
              "      <td>...</td>\n",
              "      <td>...</td>\n",
              "      <td>...</td>\n",
              "      <td>...</td>\n",
              "    </tr>\n",
              "    <tr>\n",
              "      <th>2021-02-11</th>\n",
              "      <td>12.380000</td>\n",
              "      <td>11.600000</td>\n",
              "      <td>11.900000</td>\n",
              "      <td>12.360000</td>\n",
              "      <td>522300</td>\n",
              "      <td>12.360000</td>\n",
              "    </tr>\n",
              "    <tr>\n",
              "      <th>2021-02-12</th>\n",
              "      <td>12.640000</td>\n",
              "      <td>12.020000</td>\n",
              "      <td>12.590000</td>\n",
              "      <td>12.250000</td>\n",
              "      <td>455300</td>\n",
              "      <td>12.250000</td>\n",
              "    </tr>\n",
              "    <tr>\n",
              "      <th>2021-02-16</th>\n",
              "      <td>12.970000</td>\n",
              "      <td>12.080000</td>\n",
              "      <td>12.300000</td>\n",
              "      <td>12.830000</td>\n",
              "      <td>746000</td>\n",
              "      <td>12.830000</td>\n",
              "    </tr>\n",
              "    <tr>\n",
              "      <th>2021-02-17</th>\n",
              "      <td>12.820000</td>\n",
              "      <td>12.080000</td>\n",
              "      <td>12.770000</td>\n",
              "      <td>12.360000</td>\n",
              "      <td>422800</td>\n",
              "      <td>12.360000</td>\n",
              "    </tr>\n",
              "    <tr>\n",
              "      <th>2021-02-18</th>\n",
              "      <td>12.390000</td>\n",
              "      <td>11.900000</td>\n",
              "      <td>12.220000</td>\n",
              "      <td>11.940000</td>\n",
              "      <td>605600</td>\n",
              "      <td>11.940000</td>\n",
              "    </tr>\n",
              "  </tbody>\n",
              "</table>\n",
              "<p>1291 rows × 6 columns</p>\n",
              "</div>"
            ],
            "text/plain": [
              "                 High        Low       Open      Close  Volume  Adj Close\n",
              "Date                                                                     \n",
              "2016-01-04  17.100000  16.280001  16.959999  16.290001  385500  16.290001\n",
              "2016-01-05  16.360001  15.600000  16.299999  16.080000  322600  16.080000\n",
              "2016-01-06  16.110001  15.688000  15.700000  16.049999  258700  16.049999\n",
              "2016-01-07  16.030001  14.920000  15.480000  15.290000  374300  15.290000\n",
              "2016-01-08  15.690000  14.650000  15.420000  14.790000  222400  14.790000\n",
              "...               ...        ...        ...        ...     ...        ...\n",
              "2021-02-11  12.380000  11.600000  11.900000  12.360000  522300  12.360000\n",
              "2021-02-12  12.640000  12.020000  12.590000  12.250000  455300  12.250000\n",
              "2021-02-16  12.970000  12.080000  12.300000  12.830000  746000  12.830000\n",
              "2021-02-17  12.820000  12.080000  12.770000  12.360000  422800  12.360000\n",
              "2021-02-18  12.390000  11.900000  12.220000  11.940000  605600  11.940000\n",
              "\n",
              "[1291 rows x 6 columns]"
            ]
          },
          "metadata": {
            "tags": []
          },
          "execution_count": 60
        }
      ]
    },
    {
      "cell_type": "code",
      "metadata": {
        "colab": {
          "base_uri": "https://localhost:8080/"
        },
        "id": "1J5ep1zFeFch",
        "outputId": "d29b02e8-5402-4825-9cb4-f81191cc9039"
      },
      "source": [
        "#Get the number of rows & columns\r\n",
        "df.shape"
      ],
      "execution_count": 61,
      "outputs": [
        {
          "output_type": "execute_result",
          "data": {
            "text/plain": [
              "(1291, 6)"
            ]
          },
          "metadata": {
            "tags": []
          },
          "execution_count": 61
        }
      ]
    },
    {
      "cell_type": "code",
      "metadata": {
        "colab": {
          "base_uri": "https://localhost:8080/",
          "height": 558
        },
        "id": "mtW8Dhjtecdy",
        "outputId": "61bc3d58-89f7-450c-d60d-9df0720f31ac"
      },
      "source": [
        "#Visualize the closing price history\r\n",
        "plt.figure(figsize=(16,8))\r\n",
        "plt.title('Close Price History')\r\n",
        "plt.plot(df['Close'])\r\n",
        "plt.xlabel('Date', fontsize=18)\r\n",
        "plt.ylabel('Close Price USD', fontsize=18)\r\n",
        "plt.show()\r\n"
      ],
      "execution_count": 62,
      "outputs": [
        {
          "output_type": "display_data",
          "data": {
            "image/png": "[encoded data removed]",
            "text/plain": [
              "<Figure size 1152x576 with 1 Axes>"
            ]
          },
          "metadata": {
            "tags": []
          }
        }
      ]
    },
    {
      "cell_type": "code",
      "metadata": {
        "id": "NQEhfJTcfbDk"
      },
      "source": [
        ""
      ],
      "execution_count": 62,
      "outputs": []
    },
    {
      "cell_type": "code",
      "metadata": {
        "colab": {
          "base_uri": "https://localhost:8080/"
        },
        "id": "FKYNe3rNgLP1",
        "outputId": "4a0d9cb4-f797-43e0-d03e-36fb23132262"
      },
      "source": [
        "#Create a new dataframe only with close column\r\n",
        "data = df.filter(['Close'])\r\n",
        "#Convert the dataframe to a numpy array\r\n",
        "dataset = data.values\r\n",
        "#Get the number of rows to train the model on\r\n",
        "training_data_len = math.ceil(len(dataset)*0.8)\r\n",
        "training_data_len"
      ],
      "execution_count": 63,
      "outputs": [
        {
          "output_type": "execute_result",
          "data": {
            "text/plain": [
              "1033"
            ]
          },
          "metadata": {
            "tags": []
          },
          "execution_count": 63
        }
      ]
    },
    {
      "cell_type": "code",
      "metadata": {
        "colab": {
          "base_uri": "https://localhost:8080/"
        },
        "id": "V_67wfYFhVFo",
        "outputId": "b01ba1c7-b2fc-4698-e91f-f1d0fe54c9bf"
      },
      "source": [
        "#Scale the data\r\n",
        "scaler = MinMaxScaler(feature_range=(0,1))\r\n",
        "scaled_data = scaler.fit_transform(dataset)\r\n",
        "scaled_data"
      ],
      "execution_count": 64,
      "outputs": [
        {
          "output_type": "execute_result",
          "data": {
            "text/plain": [
              "array([[0.11465307],\n",
              "       [0.11242163],\n",
              "       [0.11210285],\n",
              "       ...,\n",
              "       [0.07788758],\n",
              "       [0.07289342],\n",
              "       [0.06843056]])"
            ]
          },
          "metadata": {
            "tags": []
          },
          "execution_count": 64
        }
      ]
    },
    {
      "cell_type": "code",
      "metadata": {
        "colab": {
          "base_uri": "https://localhost:8080/"
        },
        "id": "gn6ZuPOwiMHn",
        "outputId": "36271b25-2d3e-4d78-8c1d-a143cb7c5435"
      },
      "source": [
        "#Create the training data set\r\n",
        "#Create the scaled data set\r\n",
        "train_data = scaled_data[0:training_data_len, :]\r\n",
        "#Split the data into x_train and y_train dataset\r\n",
        "x_train = []\r\n",
        "y_train = []\r\n",
        "\r\n",
        "for i in range(60, len(train_data)):\r\n",
        "  x_train.append(train_data[i-60:i, 0])\r\n",
        "  y_train.append(train_data[i, 0])\r\n",
        "  if i<=61:\r\n",
        "    print(x_train)\r\n",
        "    print(y_train)\r\n",
        "    print()"
      ],
      "execution_count": 65,
      "outputs": [
        {
          "output_type": "stream",
          "text": [
            "[array([0.11465307, 0.11242163, 0.11210285, 0.1040272 , 0.09871427,\n",
            "       0.0978642 , 0.10020189, 0.09000106, 0.09201997, 0.08415684,\n",
            "       0.07554988, 0.07289342, 0.07895017, 0.089151  , 0.082988  ,\n",
            "       0.10243333, 0.11454681, 0.11444055, 0.11550314, 0.11125279,\n",
            "       0.1053023 , 0.10540856, 0.11316544, 0.10572734, 0.09754543,\n",
            "       0.09595154, 0.0960578 , 0.09616406, 0.10413346, 0.11135904,\n",
            "       0.11614069, 0.11656571, 0.11135904, 0.11497184, 0.11635321,\n",
            "       0.11125279, 0.12102858, 0.13516097, 0.13271703, 0.13632983,\n",
            "       0.1359048 , 0.13622356, 0.1353735 , 0.1340984 , 0.12209117,\n",
            "       0.12240995, 0.12262247, 0.12867921, 0.12697907, 0.1212411 ,\n",
            "       0.12644777, 0.12910423, 0.12814791, 0.12708532, 0.1132717 ,\n",
            "       0.11178409, 0.10934013, 0.10307087, 0.101477  , 0.10381469])]\n",
            "[0.09998937186678823]\n",
            "\n",
            "[array([0.11465307, 0.11242163, 0.11210285, 0.1040272 , 0.09871427,\n",
            "       0.0978642 , 0.10020189, 0.09000106, 0.09201997, 0.08415684,\n",
            "       0.07554988, 0.07289342, 0.07895017, 0.089151  , 0.082988  ,\n",
            "       0.10243333, 0.11454681, 0.11444055, 0.11550314, 0.11125279,\n",
            "       0.1053023 , 0.10540856, 0.11316544, 0.10572734, 0.09754543,\n",
            "       0.09595154, 0.0960578 , 0.09616406, 0.10413346, 0.11135904,\n",
            "       0.11614069, 0.11656571, 0.11135904, 0.11497184, 0.11635321,\n",
            "       0.11125279, 0.12102858, 0.13516097, 0.13271703, 0.13632983,\n",
            "       0.1359048 , 0.13622356, 0.1353735 , 0.1340984 , 0.12209117,\n",
            "       0.12240995, 0.12262247, 0.12867921, 0.12697907, 0.1212411 ,\n",
            "       0.12644777, 0.12910423, 0.12814791, 0.12708532, 0.1132717 ,\n",
            "       0.11178409, 0.10934013, 0.10307087, 0.101477  , 0.10381469]), array([0.11242163, 0.11210285, 0.1040272 , 0.09871427, 0.0978642 ,\n",
            "       0.10020189, 0.09000106, 0.09201997, 0.08415684, 0.07554988,\n",
            "       0.07289342, 0.07895017, 0.089151  , 0.082988  , 0.10243333,\n",
            "       0.11454681, 0.11444055, 0.11550314, 0.11125279, 0.1053023 ,\n",
            "       0.10540856, 0.11316544, 0.10572734, 0.09754543, 0.09595154,\n",
            "       0.0960578 , 0.09616406, 0.10413346, 0.11135904, 0.11614069,\n",
            "       0.11656571, 0.11135904, 0.11497184, 0.11635321, 0.11125279,\n",
            "       0.12102858, 0.13516097, 0.13271703, 0.13632983, 0.1359048 ,\n",
            "       0.13622356, 0.1353735 , 0.1340984 , 0.12209117, 0.12240995,\n",
            "       0.12262247, 0.12867921, 0.12697907, 0.1212411 , 0.12644777,\n",
            "       0.12910423, 0.12814791, 0.12708532, 0.1132717 , 0.11178409,\n",
            "       0.10934013, 0.10307087, 0.101477  , 0.10381469, 0.09998937])]\n",
            "[0.09998937186678823, 0.10137073530954459]\n",
            "\n"
          ],
          "name": "stdout"
        }
      ]
    },
    {
      "cell_type": "code",
      "metadata": {
        "id": "hYY01shPmQO6"
      },
      "source": [
        "#Convert the x_train and y_train into numpy arrays\r\n",
        "x_train, y_train = np.array(x_train), np.array(y_train)\r\n"
      ],
      "execution_count": 66,
      "outputs": []
    },
    {
      "cell_type": "code",
      "metadata": {
        "colab": {
          "base_uri": "https://localhost:8080/"
        },
        "id": "KnEyc3Tom7jk",
        "outputId": "c2f89470-7635-40f5-9ced-7b9f0ddf74e2"
      },
      "source": [
        "#Reshape the data\r\n",
        "x_train = np.reshape(x_train, (x_train.shape[0], x_train.shape[1], 1))\r\n",
        "x_train.shape"
      ],
      "execution_count": 67,
      "outputs": [
        {
          "output_type": "execute_result",
          "data": {
            "text/plain": [
              "(973, 60, 1)"
            ]
          },
          "metadata": {
            "tags": []
          },
          "execution_count": 67
        }
      ]
    },
    {
      "cell_type": "code",
      "metadata": {
        "id": "MR3rK6V7nz5H"
      },
      "source": [
        "#Build the LSTM model\r\n",
        "model = Sequential()\r\n",
        "model.add(LSTM(50, return_sequences=True, input_shape=(x_train.shape[1], 1)))\r\n",
        "model.add(LSTM(50, return_sequences=False))\r\n",
        "model.add(Dense(25))\r\n",
        "model.add(Dense(1))"
      ],
      "execution_count": 68,
      "outputs": []
    },
    {
      "cell_type": "code",
      "metadata": {
        "id": "3A9Z-a18pLG3"
      },
      "source": [
        "#Compile the model\r\n",
        "model.compile(optimizer='adam', loss='mean_squared_error')"
      ],
      "execution_count": 69,
      "outputs": []
    },
    {
      "cell_type": "code",
      "metadata": {
        "colab": {
          "base_uri": "https://localhost:8080/"
        },
        "id": "FEWuEQsRpld_",
        "outputId": "d477a904-929f-4cb0-c122-efdcbbba8207"
      },
      "source": [
        "#Train the model .\r\n",
        "model.fit(x_train, y_train, batch_size=1, epochs=1)"
      ],
      "execution_count": 70,
      "outputs": [
        {
          "output_type": "stream",
          "text": [
            "973/973 [==============================] - 28s 26ms/step - loss: 0.0091\n"
          ],
          "name": "stdout"
        },
        {
          "output_type": "execute_result",
          "data": {
            "text/plain": [
              "<tensorflow.python.keras.callbacks.History at 0x7f3c26afe198>"
            ]
          },
          "metadata": {
            "tags": []
          },
          "execution_count": 70
        }
      ]
    },
    {
      "cell_type": "code",
      "metadata": {
        "id": "5QOoNSiRqMn0"
      },
      "source": [
        "#Create the testing dataset\r\n",
        "#Create a new array containing scaled values form 1231 to 1291\r\n",
        "test_data = scaled_data[training_data_len - 60:, :]\r\n",
        "#Create the data set x_test, y_test\r\n",
        "x_test = []\r\n",
        "y_test = dataset[training_data_len:,:]\r\n",
        "for i in range(60, len(test_data)):\r\n",
        "  x_test.append(test_data[i-60:i, 0])\r\n"
      ],
      "execution_count": 71,
      "outputs": []
    },
    {
      "cell_type": "code",
      "metadata": {
        "id": "kNmTU3YVxBiO"
      },
      "source": [
        "#Convert the data to a numpy array\r\n",
        "x_test = np.array(x_test)\r\n"
      ],
      "execution_count": 72,
      "outputs": []
    },
    {
      "cell_type": "code",
      "metadata": {
        "id": "aU6_nUBIxWI3"
      },
      "source": [
        "#Reshape the data\r\n",
        "x_test = np.reshape(x_test, (x_test.shape[0], x_test.shape[1], 1))"
      ],
      "execution_count": 73,
      "outputs": []
    },
    {
      "cell_type": "code",
      "metadata": {
        "id": "JEGtskQcz_86"
      },
      "source": [
        "#Get the model predicted price values\r\n",
        "predictions = model.predict(x_test)\r\n",
        "predictions = scaler.inverse_transform(predictions)\r\n"
      ],
      "execution_count": 74,
      "outputs": []
    },
    {
      "cell_type": "code",
      "metadata": {
        "colab": {
          "base_uri": "https://localhost:8080/"
        },
        "id": "X-M4RJVz0yf_",
        "outputId": "a5589b29-2df0-42ea-cc1a-1e55871518ab"
      },
      "source": [
        "#Get the Root Mean Squared Error (RMSE)\r\n",
        "rmse=np.sqrt(np.mean(((predictions- y_test)**2)))\r\n",
        "rmse"
      ],
      "execution_count": 75,
      "outputs": [
        {
          "output_type": "execute_result",
          "data": {
            "text/plain": [
              "1.8730791384818735"
            ]
          },
          "metadata": {
            "tags": []
          },
          "execution_count": 75
        }
      ]
    },
    {
      "cell_type": "code",
      "metadata": {
        "colab": {
          "base_uri": "https://localhost:8080/",
          "height": 659
        },
        "id": "PsxSPTUj110m",
        "outputId": "15a0a98d-4c32-409b-daa7-aefef7186fc4"
      },
      "source": [
        "#Plot the data\r\n",
        "train = data[:training_data_len]\r\n",
        "valid = data[training_data_len:]\r\n",
        "valid['Predictions'] = predictions\r\n",
        "#Visualize the data\r\n",
        "plt.figure(figsize=(16,8))\r\n",
        "plt.title('Model')\r\n",
        "plt.xlabel('Date', fontsize=18)\r\n",
        "plt.ylabel('Close Price USD', fontsize=18)\r\n",
        "plt.plot(train['Close'])\r\n",
        "plt.plot(valid[['Close', 'Predictions']])\r\n",
        "plt.legend(['Train', 'Valid', 'Predictions'], loc='upper right')\r\n",
        "plt.show()\r\n"
      ],
      "execution_count": 76,
      "outputs": [
        {
          "output_type": "stream",
          "text": [
            "/usr/local/lib/python3.6/dist-packages/ipykernel_launcher.py:4: SettingWithCopyWarning: \n",
            "A value is trying to be set on a copy of a slice from a DataFrame.\n",
            "Try using .loc[row_indexer,col_indexer] = value instead\n",
            "\n",
            "See the caveats in the documentation: https://pandas.pydata.org/pandas-docs/stable/user_guide/indexing.html#returning-a-view-versus-a-copy\n",
            "  after removing the cwd from sys.path.\n"
          ],
          "name": "stderr"
        },
        {
          "output_type": "display_data",
          "data": {
            "image/png": "[encoded data removed]",
            "text/plain": [
              "<Figure size 1152x576 with 1 Axes>"
            ]
          },
          "metadata": {
            "tags": []
          }
        }
      ]
    },
    {
      "cell_type": "code",
      "metadata": {
        "colab": {
          "base_uri": "https://localhost:8080/",
          "height": 431
        },
        "id": "BEHHv2En7f6q",
        "outputId": "767cd385-e59b-4184-e842-78d6b4031db5"
      },
      "source": [
        "#Show the valid & predicted prices\r\n",
        "valid"
      ],
      "execution_count": 77,
      "outputs": [
        {
          "output_type": "execute_result",
          "data": {
            "text/html": [
              "<div>\n",
              "<style scoped>\n",
              "    .dataframe tbody tr th:only-of-type {\n",
              "        vertical-align: middle;\n",
              "    }\n",
              "\n",
              "    .dataframe tbody tr th {\n",
              "        vertical-align: top;\n",
              "    }\n",
              "\n",
              "    .dataframe thead th {\n",
              "        text-align: right;\n",
              "    }\n",
              "</style>\n",
              "<table border=\"1\" class=\"dataframe\">\n",
              "  <thead>\n",
              "    <tr style=\"text-align: right;\">\n",
              "      <th></th>\n",
              "      <th>Close</th>\n",
              "      <th>Predictions</th>\n",
              "    </tr>\n",
              "    <tr>\n",
              "      <th>Date</th>\n",
              "      <th></th>\n",
              "      <th></th>\n",
              "    </tr>\n",
              "  </thead>\n",
              "  <tbody>\n",
              "    <tr>\n",
              "      <th>2020-02-11</th>\n",
              "      <td>11.51</td>\n",
              "      <td>12.995722</td>\n",
              "    </tr>\n",
              "    <tr>\n",
              "      <th>2020-02-12</th>\n",
              "      <td>12.46</td>\n",
              "      <td>12.954150</td>\n",
              "    </tr>\n",
              "    <tr>\n",
              "      <th>2020-02-13</th>\n",
              "      <td>12.75</td>\n",
              "      <td>13.037991</td>\n",
              "    </tr>\n",
              "    <tr>\n",
              "      <th>2020-02-14</th>\n",
              "      <td>11.90</td>\n",
              "      <td>13.223676</td>\n",
              "    </tr>\n",
              "    <tr>\n",
              "      <th>2020-02-18</th>\n",
              "      <td>11.75</td>\n",
              "      <td>13.368694</td>\n",
              "    </tr>\n",
              "    <tr>\n",
              "      <th>...</th>\n",
              "      <td>...</td>\n",
              "      <td>...</td>\n",
              "    </tr>\n",
              "    <tr>\n",
              "      <th>2021-02-11</th>\n",
              "      <td>12.36</td>\n",
              "      <td>13.204700</td>\n",
              "    </tr>\n",
              "    <tr>\n",
              "      <th>2021-02-12</th>\n",
              "      <td>12.25</td>\n",
              "      <td>13.366090</td>\n",
              "    </tr>\n",
              "    <tr>\n",
              "      <th>2021-02-16</th>\n",
              "      <td>12.83</td>\n",
              "      <td>13.504865</td>\n",
              "    </tr>\n",
              "    <tr>\n",
              "      <th>2021-02-17</th>\n",
              "      <td>12.36</td>\n",
              "      <td>13.671792</td>\n",
              "    </tr>\n",
              "    <tr>\n",
              "      <th>2021-02-18</th>\n",
              "      <td>11.94</td>\n",
              "      <td>13.790885</td>\n",
              "    </tr>\n",
              "  </tbody>\n",
              "</table>\n",
              "<p>258 rows × 2 columns</p>\n",
              "</div>"
            ],
            "text/plain": [
              "            Close  Predictions\n",
              "Date                          \n",
              "2020-02-11  11.51    12.995722\n",
              "2020-02-12  12.46    12.954150\n",
              "2020-02-13  12.75    13.037991\n",
              "2020-02-14  11.90    13.223676\n",
              "2020-02-18  11.75    13.368694\n",
              "...           ...          ...\n",
              "2021-02-11  12.36    13.204700\n",
              "2021-02-12  12.25    13.366090\n",
              "2021-02-16  12.83    13.504865\n",
              "2021-02-17  12.36    13.671792\n",
              "2021-02-18  11.94    13.790885\n",
              "\n",
              "[258 rows x 2 columns]"
            ]
          },
          "metadata": {
            "tags": []
          },
          "execution_count": 77
        }
      ]
    },
    {
      "cell_type": "code",
      "metadata": {
        "colab": {
          "base_uri": "https://localhost:8080/"
        },
        "id": "80-soCEj8ApM",
        "outputId": "104aeb0b-d723-4064-aff3-c38a8dcfd244"
      },
      "source": [
        "#Get the quote\r\n",
        "aaoi_quote = web.DataReader('AAOI', data_source='yahoo', start='2016-01-01', end='2021-02-18')\r\n",
        "#Create a new dataframe\r\n",
        "new_df = aaoi_quote.filter(['Close'])\r\n",
        "#Get the last 60 days closing price and convert the dataset to an array\r\n",
        "last_60_days = new_df[-60:].values\r\n",
        "#Scale the data to be values between 0 and 1\r\n",
        "last_60_days_scaled = scaler.transform(last_60_days)\r\n",
        "#Create an empty list\r\n",
        "X_test = []\r\n",
        "#Append the past 60 days\r\n",
        "X_test.append(last_60_days_scaled)\r\n",
        "#Convert the X_test to a numpy array\r\n",
        "X_test = np.array(X_test)\r\n",
        "#Reshape the data\r\n",
        "X_test = np.reshape(X_test, (X_test.shape[0], X_test.shape[1], 1))\r\n",
        "#Get the predicted scaled price\r\n",
        "pred_price = model.predict(X_test)\r\n",
        "#Undo the scaling\r\n",
        "pred_price = scaler.inverse_transform(pred_price)\r\n",
        "print(pred_price)\r\n"
      ],
      "execution_count": 78,
      "outputs": [
        {
          "output_type": "stream",
          "text": [
            "[[13.822736]]\n"
          ],
          "name": "stdout"
        }
      ]
    },
    {
      "cell_type": "code",
      "metadata": {
        "colab": {
          "base_uri": "https://localhost:8080/"
        },
        "id": "Ob3afNUcUI58",
        "outputId": "5ad39c15-7268-442c-e105-52fc3feb8fe1"
      },
      "source": [
        "#Get the quote\r\n",
        "aaoi_quote2 = web.DataReader('AAOI', data_source='yahoo', start='2021-02-19', end='2021-02-19')\r\n",
        "print(aaoi_quote2['Close'])"
      ],
      "execution_count": 80,
      "outputs": [
        {
          "output_type": "stream",
          "text": [
            "Date\n",
            "2021-02-19    12.3\n",
            "2021-02-19    12.3\n",
            "Name: Close, dtype: float64\n"
          ],
          "name": "stdout"
        }
      ]
    }
  ]
}